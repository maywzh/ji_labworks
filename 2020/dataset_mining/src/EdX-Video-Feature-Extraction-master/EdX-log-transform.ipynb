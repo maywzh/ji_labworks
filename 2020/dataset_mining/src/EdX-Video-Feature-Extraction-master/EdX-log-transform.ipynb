{
 "cells": [
  {
   "cell_type": "code",
   "execution_count": 1,
   "metadata": {
    "collapsed": true
   },
   "outputs": [],
   "source": [
    "# -*- coding: utf-8 -*-\n",
    "\n",
    "import os\n",
    "import json\n",
    "\n",
    "for root, dirs, files in os.walk('/Users/davidlemay/Google Drive/MOOC Time Series Analysis/Bucket 2'):\n",
    "    for name in files:\n",
    "        path = os.path.join(root, name)\n",
    "        data = []\n",
    "        users = {}\n",
    "        \n",
    "        if '.DS_Store' in name:\n",
    "            continue\n",
    "            \n",
    "        with open(path, 'r') as f:\n",
    "            for line in f:\n",
    "                data.append(json.loads(line))\n",
    "    \n",
    "        for key in data:\n",
    "            user = key['username']\n",
    "            if len(user) > 1:\n",
    "                if user in users:\n",
    "                    activity = list(users[user])\n",
    "                    activity.append(key)\n",
    "                    users[user] = activity\n",
    "\n",
    "                else:\n",
    "                    activity = []\n",
    "                    activity.append(key)\n",
    "                    users[user] = activity\n",
    "\n",
    "        for user in users:\n",
    "            activity = list(users[user])\n",
    "            videos = {}\n",
    "\n",
    "            for log in activity:\n",
    "                event = log['event_type']\n",
    "                if event == 'load_video' or event == 'play_video' or event == 'pause_video' or event == 'seek_video' or 'speed_change_video' in event:\n",
    "                    video = json.loads(log['event']).get('id')\n",
    "                    if video in videos:\n",
    "                        events = list(videos[video])\n",
    "                        events.append(log)\n",
    "                        videos[video] = events\n",
    "                    else:\n",
    "                        events = []\n",
    "                        events.append(log)\n",
    "                        videos[video] = events\n",
    "\n",
    "            for video in videos:\n",
    "                path = '/Users/davidlemay/Google Drive/MOOC Time Series Analysis/Code/'+user+'-'+video+'.json'\n",
    "                video_events = list(videos[video])\n",
    "                with open(path, 'w') as f:\n",
    "                    json.dump(video_events, f, indent=4)"
   ]
  },
  {
   "cell_type": "code",
   "execution_count": null,
   "metadata": {
    "collapsed": true
   },
   "outputs": [],
   "source": [
    "print useractivity['bodily11']"
   ]
  },
  {
   "cell_type": "code",
   "execution_count": null,
   "metadata": {
    "collapsed": true
   },
   "outputs": [],
   "source": [
    "# -*- coding: utf-8 -*-\n",
    "\n",
    "import json\n",
    "data = []\n",
    "users = {}\n",
    "\n",
    "for line in open('teacherscollegex-edx-events-2015-07-22.json', 'r'):\n",
    "    data.append(json.loads(line))"
   ]
  },
  {
   "cell_type": "code",
   "execution_count": null,
   "metadata": {
    "collapsed": true
   },
   "outputs": [],
   "source": [
    "for key in data:\n",
    "    user = key['username']\n",
    "    if len(user) > 1:\n",
    "        if user in users:\n",
    "            activity = list(users[user])\n",
    "            activity.append(key)\n",
    "            users[user] = activity\n",
    "            \n",
    "        else:\n",
    "            activity = []\n",
    "            activity.append(key)\n",
    "            users[user] = activity\n",
    "        "
   ]
  },
  {
   "cell_type": "code",
   "execution_count": null,
   "metadata": {
    "collapsed": true
   },
   "outputs": [],
   "source": [
    "for user in users:\n",
    "    path = 'teacherscollegex-edx-events-2015-07-22-' + user + '.json'\n",
    "    activity = list(users[user])\n",
    "    with open(path, 'w') as f:\n",
    "        json.dump(activity, f, indent=4)\n",
    "    "
   ]
  },
  {
   "cell_type": "code",
   "execution_count": null,
   "metadata": {
    "collapsed": true
   },
   "outputs": [],
   "source": [
    "for user in users:\n",
    "    activity = list(users[user])\n",
    "    videos = {}\n",
    "\n",
    "    for log in activity:\n",
    "        event = log['event_type']\n",
    "        if event == 'load_video' or event == 'play_video' or event == 'pause_video' or event == 'seek_video' or 'saved_video_position' in event:\n",
    "            video = json.loads(log['event']).get('id')\n",
    "            if video in videos:\n",
    "                events = list(videos[video])\n",
    "                events.append(log)\n",
    "                videos[video] = events\n",
    "            else:\n",
    "                events = []\n",
    "                events.append(log)\n",
    "                videos[video] = events\n",
    "\n",
    "    for video in videos:\n",
    "        path = user+'-'+video+'.json'\n",
    "        video_events = list(videos[video])\n",
    "        with open(path, 'a') as f:\n",
    "            json.dump(video_events, f, indent=4)\n"
   ]
  },
  {
   "cell_type": "code",
   "execution_count": null,
   "metadata": {
    "collapsed": true
   },
   "outputs": [],
   "source": []
  },
  {
   "cell_type": "code",
   "execution_count": null,
   "metadata": {
    "collapsed": true
   },
   "outputs": [],
   "source": [
    "print json.dumps(users['bodily11'], indent=4)"
   ]
  },
  {
   "cell_type": "code",
   "execution_count": null,
   "metadata": {
    "collapsed": true
   },
   "outputs": [],
   "source": [
    "for key in data:\n",
    "    activity = []\n",
    "    if len(key['username']) > 1:\n",
    "        name = json.dumps(key['username'])\n",
    "        if name in users:\n",
    "            useractivity = user['name']\n",
    "            users['name'] = useractivity.append(key)\n",
    "        else:\n",
    "            users['name'] = key"
   ]
  },
  {
   "cell_type": "code",
   "execution_count": null,
   "metadata": {
    "collapsed": true
   },
   "outputs": [],
   "source": [
    "#for key in data:\n",
    "#    if len(key['username']) > 1:\n",
    "#        user = str(key['username'])\n",
    "#        if user in useractivity:\n",
    "#            log = useractivity[user]\n",
    "#            useractivity[user] = dict((log.items()) + list(key.items()))\n",
    "#        else:\n",
    "#            useractivity[user] = key"
   ]
  },
  {
   "cell_type": "code",
   "execution_count": 4,
   "metadata": {},
   "outputs": [
    {
     "name": "stdout",
     "output_type": "stream",
     "text": [
      ".DS_Store\n",
      "teacherscollegex-edx-events-2015-05-19.json\n",
      "teacherscollegex-edx-events-2015-05-21.json\n",
      "teacherscollegex-edx-events-2015-05-26.json\n",
      "teacherscollegex-edx-events-2015-05-27.json\n",
      "teacherscollegex-edx-events-2015-05-28.json\n",
      "teacherscollegex-edx-events-2015-05-29.json\n",
      "teacherscollegex-edx-events-2015-05-30.json\n",
      "teacherscollegex-edx-events-2015-05-31.json\n",
      "teacherscollegex-edx-events-2015-06-01.json\n",
      "teacherscollegex-edx-events-2015-06-02.json\n",
      "teacherscollegex-edx-events-2015-06-03.json\n",
      "teacherscollegex-edx-events-2015-06-04.json\n",
      "teacherscollegex-edx-events-2015-06-05.json\n",
      "teacherscollegex-edx-events-2015-06-06.json\n",
      "teacherscollegex-edx-events-2015-06-07.json\n",
      "teacherscollegex-edx-events-2015-06-08.json\n",
      "teacherscollegex-edx-events-2015-06-09.json\n",
      "teacherscollegex-edx-events-2015-06-10.json\n",
      "teacherscollegex-edx-events-2015-06-11.json\n",
      "teacherscollegex-edx-events-2015-06-12.json\n",
      "teacherscollegex-edx-events-2015-06-13.json\n",
      "teacherscollegex-edx-events-2015-06-14.json\n",
      "teacherscollegex-edx-events-2015-06-15.json\n",
      "teacherscollegex-edx-events-2015-06-16.json\n",
      "teacherscollegex-edx-events-2015-06-17.json\n",
      "teacherscollegex-edx-events-2015-06-18.json\n",
      "teacherscollegex-edx-events-2015-06-19.json\n",
      "teacherscollegex-edx-events-2015-06-20.json\n",
      "teacherscollegex-edx-events-2015-06-21.json\n",
      "teacherscollegex-edx-events-2015-06-22.json\n",
      "teacherscollegex-edx-events-2015-06-23.json\n",
      "teacherscollegex-edx-events-2015-06-24.json\n",
      "teacherscollegex-edx-events-2015-06-25.json\n",
      "teacherscollegex-edx-events-2015-06-26.json\n",
      "teacherscollegex-edx-events-2015-06-27.json\n",
      "teacherscollegex-edx-events-2015-06-28.json\n",
      "teacherscollegex-edx-events-2015-06-29.json\n",
      "teacherscollegex-edx-events-2015-06-30.json\n",
      "teacherscollegex-edx-events-2015-07-01.json\n",
      "teacherscollegex-edx-events-2015-07-02.json\n",
      "teacherscollegex-edx-events-2015-07-03.json\n",
      "teacherscollegex-edx-events-2015-07-04.json\n",
      "teacherscollegex-edx-events-2015-07-05.json\n",
      "teacherscollegex-edx-events-2015-07-06.json\n",
      "teacherscollegex-edx-events-2015-07-07.json\n",
      "teacherscollegex-edx-events-2015-07-08.json\n",
      "teacherscollegex-edx-events-2015-07-09.json\n",
      "teacherscollegex-edx-events-2015-07-10.json\n",
      "teacherscollegex-edx-events-2015-07-11.json\n",
      "teacherscollegex-edx-events-2015-07-12.json\n",
      "teacherscollegex-edx-events-2015-07-13.json\n",
      "teacherscollegex-edx-events-2015-07-14.json\n",
      "teacherscollegex-edx-events-2015-07-15.json\n",
      "teacherscollegex-edx-events-2015-07-16.json\n",
      "teacherscollegex-edx-events-2015-07-17.json\n",
      "teacherscollegex-edx-events-2015-07-18.json\n",
      "teacherscollegex-edx-events-2015-07-19.json\n",
      "teacherscollegex-edx-events-2015-07-20.json\n",
      "teacherscollegex-edx-events-2015-07-21.json\n",
      "teacherscollegex-edx-events-2015-07-22.json\n",
      "teacherscollegex-edx-events-2015-07-23.json\n",
      "teacherscollegex-edx-events-2015-07-24.json\n",
      "teacherscollegex-edx-events-2015-07-25.json\n",
      "teacherscollegex-edx-events-2015-07-26.json\n",
      "teacherscollegex-edx-events-2015-07-27.json\n",
      "teacherscollegex-edx-events-2015-07-28.json\n",
      "teacherscollegex-edx-events-2015-07-29.json\n",
      "teacherscollegex-edx-events-2015-07-30.json\n",
      "teacherscollegex-edx-events-2015-07-31.json\n",
      "teacherscollegex-edx-events-2015-08-01.json\n",
      "teacherscollegex-edx-events-2015-08-02.json\n",
      "teacherscollegex-edx-events-2015-08-03.json\n",
      "teacherscollegex-edx-events-2015-08-04.json\n",
      "teacherscollegex-edx-events-2015-08-05.json\n",
      "teacherscollegex-edx-events-2015-08-06.json\n",
      "teacherscollegex-edx-events-2015-08-07.json\n",
      "teacherscollegex-edx-events-2015-08-08.json\n",
      "teacherscollegex-edx-events-2015-08-09.json\n",
      "teacherscollegex-edx-events-2015-08-10.json\n",
      "teacherscollegex-edx-events-2015-08-11.json\n",
      "teacherscollegex-edx-events-2015-08-12.json\n",
      "teacherscollegex-edx-events-2015-08-13.json\n",
      "teacherscollegex-edx-events-2015-08-14.json\n",
      "teacherscollegex-edx-events-2015-08-15.json\n",
      "teacherscollegex-edx-events-2015-08-16.json\n",
      "teacherscollegex-edx-events-2015-08-17.json\n",
      "teacherscollegex-edx-events-2015-08-18.json\n",
      "teacherscollegex-edx-events-2015-08-19.json\n",
      "teacherscollegex-edx-events-2015-08-20.json\n",
      "teacherscollegex-edx-events-2015-08-21.json\n",
      "teacherscollegex-edx-events-2015-08-22.json\n",
      "teacherscollegex-edx-events-2015-08-23.json\n",
      "teacherscollegex-edx-events-2015-08-24.json\n",
      "teacherscollegex-edx-events-2015-08-25.json\n",
      "teacherscollegex-edx-events-2015-08-26.json\n",
      "teacherscollegex-edx-events-2015-08-27.json\n",
      "teacherscollegex-edx-events-2015-08-28.json\n",
      "teacherscollegex-edx-events-2015-08-29.json\n",
      "teacherscollegex-edx-events-2015-08-30.json\n",
      "teacherscollegex-edx-events-2015-08-31.json\n",
      "teacherscollegex-edx-events-2015-09-01.json\n",
      "teacherscollegex-edx-events-2015-09-02.json\n",
      "teacherscollegex-edx-events-2015-09-03.json\n",
      "teacherscollegex-edx-events-2015-09-04.json\n",
      "teacherscollegex-edx-events-2015-09-05.json\n",
      "teacherscollegex-edx-events-2015-09-06.json\n",
      "teacherscollegex-edx-events-2015-09-07.json\n",
      "teacherscollegex-edx-events-2015-09-08.json\n",
      "teacherscollegex-edx-events-2015-09-09.json\n",
      "teacherscollegex-edx-events-2015-09-10.json\n",
      "teacherscollegex-edx-events-2015-09-11.json\n",
      "teacherscollegex-edx-events-2015-09-12.json\n",
      "teacherscollegex-edx-events-2015-09-13.json\n",
      "teacherscollegex-edx-events-2015-09-14.json\n",
      "teacherscollegex-edx-events-2015-09-15.json\n",
      "teacherscollegex-edx-events-2015-09-16.json\n",
      "teacherscollegex-edx-events-2015-09-17.json\n",
      "teacherscollegex-edx-events-2015-09-18.json\n",
      "teacherscollegex-edx-events-2015-09-19.json\n",
      "teacherscollegex-edx-events-2015-09-20.json\n",
      "teacherscollegex-edx-events-2015-09-21.json\n",
      "teacherscollegex-edx-events-2015-09-22.json\n",
      "teacherscollegex-edx-events-2015-09-23.json\n",
      "teacherscollegex-edx-events-2015-09-24.json\n",
      "teacherscollegex-edx-events-2015-09-25.json\n",
      "teacherscollegex-edx-events-2015-09-26.json\n",
      "teacherscollegex-edx-events-2015-09-27.json\n",
      "teacherscollegex-edx-events-2015-09-28.json\n",
      "teacherscollegex-edx-events-2015-09-29.json\n",
      "teacherscollegex-edx-events-2015-09-30.json\n",
      "teacherscollegex-edx-events-2015-10-01.json\n",
      "teacherscollegex-edx-events-2015-10-02.json\n",
      "teacherscollegex-edx-events-2015-10-03.json\n",
      "teacherscollegex-edx-events-2015-10-04.json\n",
      "teacherscollegex-edx-events-2015-10-05.json\n",
      "teacherscollegex-edx-events-2015-10-06.json\n",
      "teacherscollegex-edx-events-2015-10-07.json\n",
      "teacherscollegex-edx-events-2015-10-08.json\n",
      "teacherscollegex-edx-events-2015-10-09.json\n",
      "teacherscollegex-edx-events-2015-10-10.json\n",
      "teacherscollegex-edx-events-2015-10-11.json\n",
      "teacherscollegex-edx-events-2015-10-12.json\n",
      "teacherscollegex-edx-events-2015-10-13.json\n",
      "teacherscollegex-edx-events-2015-10-14.json\n",
      "teacherscollegex-edx-events-2015-10-15.json\n",
      "teacherscollegex-edx-events-2015-10-16.json\n",
      "teacherscollegex-edx-events-2015-10-17.json\n",
      "teacherscollegex-edx-events-2015-10-18.json\n",
      "teacherscollegex-edx-events-2015-10-19.json\n",
      "teacherscollegex-edx-events-2015-10-20.json\n",
      "teacherscollegex-edx-events-2015-10-21.json\n",
      "teacherscollegex-edx-events-2015-10-22.json\n",
      "teacherscollegex-edx-events-2015-10-23.json\n",
      "teacherscollegex-edx-events-2015-10-24.json\n",
      "teacherscollegex-edx-events-2015-10-25.json\n",
      "teacherscollegex-edx-events-2015-10-26.json\n",
      "teacherscollegex-edx-events-2015-10-27.json\n",
      "teacherscollegex-edx-events-2015-10-28.json\n",
      "teacherscollegex-edx-events-2015-10-29.json\n",
      "teacherscollegex-edx-events-2015-10-30.json\n",
      "teacherscollegex-edx-events-2015-10-31.json\n",
      "teacherscollegex-edx-events-2015-11-01.json\n",
      "teacherscollegex-edx-events-2015-11-02.json\n",
      "teacherscollegex-edx-events-2015-11-03.json\n",
      "teacherscollegex-edx-events-2015-11-04.json\n",
      "teacherscollegex-edx-events-2015-11-05.json\n",
      "teacherscollegex-edx-events-2015-11-06.json\n",
      "teacherscollegex-edx-events-2015-11-07.json\n",
      "teacherscollegex-edx-events-2015-11-08.json\n",
      "teacherscollegex-edx-events-2015-11-09.json\n"
     ]
    }
   ],
   "source": [
    "for root, dirs, files in os.walk('/Users/davidlemay/Google Drive/MOOC Time Series Analysis/Bucket 2'):\n",
    "    for name in files:\n",
    "        data = []\n",
    "        print name"
   ]
  },
  {
   "cell_type": "code",
   "execution_count": null,
   "metadata": {
    "collapsed": true
   },
   "outputs": [],
   "source": [
    "print user"
   ]
  },
  {
   "cell_type": "code",
   "execution_count": null,
   "metadata": {
    "collapsed": true
   },
   "outputs": [],
   "source": [
    "user.append('mancy')"
   ]
  },
  {
   "cell_type": "code",
   "execution_count": null,
   "metadata": {
    "collapsed": true
   },
   "outputs": [],
   "source": [
    "print user"
   ]
  },
  {
   "cell_type": "code",
   "execution_count": null,
   "metadata": {
    "collapsed": true
   },
   "outputs": [],
   "source": []
  }
 ],
 "metadata": {
  "kernelspec": {
   "display_name": "Python 3",
   "language": "python",
   "name": "python3"
  },
  "language_info": {
   "codemirror_mode": {
    "name": "ipython",
    "version": 3
   },
   "file_extension": ".py",
   "mimetype": "text/x-python",
   "name": "python",
   "nbconvert_exporter": "python",
   "pygments_lexer": "ipython3",
   "version": "3.6.3"
  }
 },
 "nbformat": 4,
 "nbformat_minor": 2
}
