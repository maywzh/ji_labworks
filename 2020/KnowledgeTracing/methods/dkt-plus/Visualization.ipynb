{
 "cells": [
  {
   "cell_type": "code",
   "execution_count": 2,
   "metadata": {
    "collapsed": true
   },
   "outputs": [],
   "source": [
    "import os\n",
    "import tensorflow as tf\n",
    "import time\n",
    "import numpy as np\n",
    "\n",
    "from utils import DKT\n",
    "from load_data import DKTData\n",
    "\n",
    "import matplotlib.pyplot as plt\n",
    "%matplotlib inline"
   ]
  },
  {
   "cell_type": "code",
   "execution_count": 3,
   "metadata": {
    "collapsed": true
   },
   "outputs": [],
   "source": [
    "dataset = 'a2009'\n",
    "\n",
    "if dataset == 'a2009u':\n",
    "    train_path = './data/assist2009_updated/assist2009_updated_train.csv'\n",
    "    test_path = './data/assist2009_updated/assist2009_updated_test.csv'\n",
    "    save_dir_prefix = './a2009u/'\n",
    "elif dataset == 'a2015':\n",
    "    train_path = './data/assist2015/assist2015_train.csv'\n",
    "    test_path = './data/assist2015/assist2015_test.csv'\n",
    "    save_dir_prefix = './a2015/'\n",
    "elif dataset == 'synthetic':\n",
    "    train_path = './data/synthetic/naive_c5_q50_s4000_v1_train.csv'\n",
    "    test_path = './data/synthetic/naive_c5_q50_s4000_v1_test.csv'\n",
    "    save_dir_prefix = './synthetic/'\n",
    "elif dataset == 'statics':\n",
    "    train_path = './data/STATICS/STATICS_train.csv'\n",
    "    test_path = './data/STATICS/STATICS_test.csv'\n",
    "    save_dir_prefix = './STATICS/'\n",
    "elif dataset =='assistment_challenge':\n",
    "    train_path = './data/assistment_challenge/assistment_challenge_train.csv'\n",
    "    test_path = './data/assistment_challenge/assistment_challenge_test.csv'\n",
    "    save_dir_prefix = './assistment_challenge/'\n",
    "elif dataset == 'a2009':\n",
    "    train_path = './data/skill_id_train.csv'\n",
    "    test_path = './data/skill_id_test.csv'\n",
    "    save_dir_prefix = './'"
   ]
  },
  {
   "cell_type": "code",
   "execution_count": 4,
   "metadata": {
    "collapsed": true
   },
   "outputs": [],
   "source": [
    "rnn_cells = {\n",
    "    \"LSTM\": tf.contrib.rnn.LSTMCell,\n",
    "    \"GRU\": tf.contrib.rnn.GRUCell,\n",
    "    \"BasicRNN\": tf.contrib.rnn.BasicRNNCell,\n",
    "    \"LayerNormBasicLSTM\": tf.contrib.rnn.LayerNormBasicLSTMCell,\n",
    "}\n",
    "\n",
    "# train_path = os.path.join('./data/', 'skill_id_train.csv')\n",
    "# test_path = os.path.join('./data/', 'skill_id_test.csv')\n",
    "\n",
    "network_config = {}\n",
    "network_config['batch_size'] = 32\n",
    "network_config['hidden_layer_structure'] = [200]\n",
    "network_config['learning_rate'] = 0.01\n",
    "network_config['keep_prob'] = 0.333\n",
    "network_config['rnn_cell'] = rnn_cells[\"LSTM\"]\n",
    "\n",
    "network_config['lambda_o'] = 0.0\n",
    "network_config['lambda_w1'] = 0.0\n",
    "network_config['lambda_w2'] = 0.0\n",
    "\n",
    "# save_dir_prefix = 'checkpoints/n200.lo0.1.lw10.03.lw230.0'\n",
    "\n",
    "num_runs = 1\n",
    "num_epochs = 1\n",
    "batch_size = 32\n",
    "keep_prob = 0.333"
   ]
  },
  {
   "cell_type": "code",
   "execution_count": 5,
   "metadata": {
    "collapsed": true
   },
   "outputs": [],
   "source": [
    "tf.reset_default_graph()"
   ]
  },
  {
   "cell_type": "code",
   "execution_count": 9,
   "metadata": {},
   "outputs": [
    {
     "output_type": "stream",
     "name": "stdout",
     "text": [
      "Reading ./data/skill_id_train.csv\n",
      "10119 lines was read\n",
      "max_num_problems_answered: 1219\n",
      "num_problems: 124\n",
      "The number of students is 3137\n",
      "Finish reading data.\n",
      "Reading ./data/skill_id_test.csv\n",
      "2532 lines was read\n",
      "max_num_problems_answered: 1114\n",
      "num_problems: 124\n",
      "The number of students is 784\n",
      "Finish reading data.\n",
      "ckpt_save_dir:  ./checkpoints/n200.lo0.0.lw10.0.lw20.0/\n",
      "log_save_dir:  ./logs/n200.lo0.0.lw10.0.lw20.0/\n",
      "Network Configuration:\n",
      "batch_size: 32\n",
      "hidden_layer_structure: [200]\n",
      "learning_rate: 0.01\n",
      "keep_prob: 0.333\n",
      "rnn_cell: <class 'tensorflow.python.ops.rnn_cell_impl.LSTMCell'>\n",
      "lambda_o: 0.0\n",
      "lambda_w1: 0.0\n",
      "lambda_w2: 0.0\n",
      "Num of problems: 124\n",
      "Num of run: 1\n",
      "Max num of run: 1\n",
      "Keep Prob: 0.333\n",
      "Creating placeholder...\n",
      "Creating Loss...\n",
      "Creating Loss...\n",
      "Create optimizer...\n",
      "No model found at ./checkpoints/n200.lo0.0.lw10.0.lw20.0/run_0/LSTM-200/LSTM-200\n"
     ]
    }
   ],
   "source": [
    "sess = tf.Session()\n",
    "\n",
    "data = DKTData(train_path, test_path, batch_size=batch_size)\n",
    "data_train = data.train\n",
    "data_test = data.test\n",
    "num_problems = data.num_problems\n",
    "\n",
    "dkt_original = DKT(sess, data_train, data_test, num_problems, network_config,\n",
    "          num_runs=num_runs, num_epochs=num_epochs,\n",
    "          save_dir_prefix=save_dir_prefix,\n",
    "          keep_prob=keep_prob, logging=False, save=False)\n",
    "\n",
    "# load the model\n",
    "dkt_original.model.build_graph()\n",
    "dkt_original.load_model()"
   ]
  },
  {
   "cell_type": "code",
   "execution_count": 10,
   "metadata": {
    "collapsed": true
   },
   "outputs": [
    {
     "output_type": "error",
     "ename": "FailedPreconditionError",
     "evalue": "Attempting to use uninitialized value output_layer/weights\n\t [[Node: output_layer/weights/read = Identity[T=DT_FLOAT, _device=\"/job:localhost/replica:0/task:0/device:CPU:0\"](output_layer/weights)]]\n\nCaused by op 'output_layer/weights/read', defined at:\n  File \"/Users/maywzh/.pyenv/versions/3.6.5/lib/python3.6/runpy.py\", line 193, in _run_module_as_main\n    \"__main__\", mod_spec)\n  File \"/Users/maywzh/.pyenv/versions/3.6.5/lib/python3.6/runpy.py\", line 85, in _run_code\n    exec(code, run_globals)\n  File \"/Users/maywzh/.pyenv/versions/venv-3.6.5-tf1.10/lib/python3.6/site-packages/ipykernel_launcher.py\", line 16, in <module>\n    app.launch_new_instance()\n  File \"/Users/maywzh/.pyenv/versions/venv-3.6.5-tf1.10/lib/python3.6/site-packages/traitlets/config/application.py\", line 664, in launch_instance\n    app.start()\n  File \"/Users/maywzh/.pyenv/versions/venv-3.6.5-tf1.10/lib/python3.6/site-packages/ipykernel/kernelapp.py\", line 612, in start\n    self.io_loop.start()\n  File \"/Users/maywzh/.pyenv/versions/venv-3.6.5-tf1.10/lib/python3.6/site-packages/tornado/platform/asyncio.py\", line 149, in start\n    self.asyncio_loop.run_forever()\n  File \"/Users/maywzh/.pyenv/versions/3.6.5/lib/python3.6/asyncio/base_events.py\", line 422, in run_forever\n    self._run_once()\n  File \"/Users/maywzh/.pyenv/versions/3.6.5/lib/python3.6/asyncio/base_events.py\", line 1432, in _run_once\n    handle._run()\n  File \"/Users/maywzh/.pyenv/versions/3.6.5/lib/python3.6/asyncio/events.py\", line 145, in _run\n    self._callback(*self._args)\n  File \"/Users/maywzh/.pyenv/versions/venv-3.6.5-tf1.10/lib/python3.6/site-packages/tornado/ioloop.py\", line 690, in <lambda>\n    lambda f: self._run_callback(functools.partial(callback, future))\n  File \"/Users/maywzh/.pyenv/versions/venv-3.6.5-tf1.10/lib/python3.6/site-packages/tornado/ioloop.py\", line 743, in _run_callback\n    ret = callback()\n  File \"/Users/maywzh/.pyenv/versions/venv-3.6.5-tf1.10/lib/python3.6/site-packages/tornado/gen.py\", line 787, in inner\n    self.run()\n  File \"/Users/maywzh/.pyenv/versions/venv-3.6.5-tf1.10/lib/python3.6/site-packages/tornado/gen.py\", line 748, in run\n    yielded = self.gen.send(value)\n  File \"/Users/maywzh/.pyenv/versions/venv-3.6.5-tf1.10/lib/python3.6/site-packages/ipykernel/kernelbase.py\", line 365, in process_one\n    yield gen.maybe_future(dispatch(*args))\n  File \"/Users/maywzh/.pyenv/versions/venv-3.6.5-tf1.10/lib/python3.6/site-packages/tornado/gen.py\", line 209, in wrapper\n    yielded = next(result)\n  File \"/Users/maywzh/.pyenv/versions/venv-3.6.5-tf1.10/lib/python3.6/site-packages/ipykernel/kernelbase.py\", line 268, in dispatch_shell\n    yield gen.maybe_future(handler(stream, idents, msg))\n  File \"/Users/maywzh/.pyenv/versions/venv-3.6.5-tf1.10/lib/python3.6/site-packages/tornado/gen.py\", line 209, in wrapper\n    yielded = next(result)\n  File \"/Users/maywzh/.pyenv/versions/venv-3.6.5-tf1.10/lib/python3.6/site-packages/ipykernel/kernelbase.py\", line 545, in execute_request\n    user_expressions, allow_stdin,\n  File \"/Users/maywzh/.pyenv/versions/venv-3.6.5-tf1.10/lib/python3.6/site-packages/tornado/gen.py\", line 209, in wrapper\n    yielded = next(result)\n  File \"/Users/maywzh/.pyenv/versions/venv-3.6.5-tf1.10/lib/python3.6/site-packages/ipykernel/ipkernel.py\", line 306, in do_execute\n    res = shell.run_cell(code, store_history=store_history, silent=silent)\n  File \"/Users/maywzh/.pyenv/versions/venv-3.6.5-tf1.10/lib/python3.6/site-packages/ipykernel/zmqshell.py\", line 536, in run_cell\n    return super(ZMQInteractiveShell, self).run_cell(*args, **kwargs)\n  File \"/Users/maywzh/.pyenv/versions/venv-3.6.5-tf1.10/lib/python3.6/site-packages/IPython/core/interactiveshell.py\", line 2867, in run_cell\n    raw_cell, store_history, silent, shell_futures)\n  File \"/Users/maywzh/.pyenv/versions/venv-3.6.5-tf1.10/lib/python3.6/site-packages/IPython/core/interactiveshell.py\", line 2895, in _run_cell\n    return runner(coro)\n  File \"/Users/maywzh/.pyenv/versions/venv-3.6.5-tf1.10/lib/python3.6/site-packages/IPython/core/async_helpers.py\", line 68, in _pseudo_sync_runner\n    coro.send(None)\n  File \"/Users/maywzh/.pyenv/versions/venv-3.6.5-tf1.10/lib/python3.6/site-packages/IPython/core/interactiveshell.py\", line 3072, in run_cell_async\n    interactivity=interactivity, compiler=compiler, result=result)\n  File \"/Users/maywzh/.pyenv/versions/venv-3.6.5-tf1.10/lib/python3.6/site-packages/IPython/core/interactiveshell.py\", line 3263, in run_ast_nodes\n    if (await self.run_code(code, result,  async_=asy)):\n  File \"/Users/maywzh/.pyenv/versions/venv-3.6.5-tf1.10/lib/python3.6/site-packages/IPython/core/interactiveshell.py\", line 3343, in run_code\n    exec(code_obj, self.user_global_ns, self.user_ns)\n  File \"<ipython-input-6-2601761dace2>\", line 14, in <module>\n    dkt_original.model.build_graph()\n  File \"/Users/maywzh/Workspace/ji_labworks/2020/dkt-plus/model.py\", line 161, in build_graph\n    self._create_loss()\n  File \"/Users/maywzh/Workspace/ji_labworks/2020/dkt-plus/model.py\", line 85, in _create_loss\n    initializer=tf.random_normal_initializer(stddev=1.0 / np.sqrt(self.num_problems)))\n  File \"/Users/maywzh/.pyenv/versions/venv-3.6.5-tf1.10/lib/python3.6/site-packages/tensorflow/python/ops/variable_scope.py\", line 1467, in get_variable\n    aggregation=aggregation)\n  File \"/Users/maywzh/.pyenv/versions/venv-3.6.5-tf1.10/lib/python3.6/site-packages/tensorflow/python/ops/variable_scope.py\", line 1217, in get_variable\n    aggregation=aggregation)\n  File \"/Users/maywzh/.pyenv/versions/venv-3.6.5-tf1.10/lib/python3.6/site-packages/tensorflow/python/ops/variable_scope.py\", line 527, in get_variable\n    aggregation=aggregation)\n  File \"/Users/maywzh/.pyenv/versions/venv-3.6.5-tf1.10/lib/python3.6/site-packages/tensorflow/python/ops/variable_scope.py\", line 481, in _true_getter\n    aggregation=aggregation)\n  File \"/Users/maywzh/.pyenv/versions/venv-3.6.5-tf1.10/lib/python3.6/site-packages/tensorflow/python/ops/variable_scope.py\", line 903, in _get_single_variable\n    aggregation=aggregation)\n  File \"/Users/maywzh/.pyenv/versions/venv-3.6.5-tf1.10/lib/python3.6/site-packages/tensorflow/python/ops/variable_scope.py\", line 2443, in variable\n    aggregation=aggregation)\n  File \"/Users/maywzh/.pyenv/versions/venv-3.6.5-tf1.10/lib/python3.6/site-packages/tensorflow/python/ops/variable_scope.py\", line 2425, in <lambda>\n    previous_getter = lambda **kwargs: default_variable_creator(None, **kwargs)\n  File \"/Users/maywzh/.pyenv/versions/venv-3.6.5-tf1.10/lib/python3.6/site-packages/tensorflow/python/ops/variable_scope.py\", line 2406, in default_variable_creator\n    constraint=constraint)\n  File \"/Users/maywzh/.pyenv/versions/venv-3.6.5-tf1.10/lib/python3.6/site-packages/tensorflow/python/ops/variables.py\", line 259, in __init__\n    constraint=constraint)\n  File \"/Users/maywzh/.pyenv/versions/venv-3.6.5-tf1.10/lib/python3.6/site-packages/tensorflow/python/ops/variables.py\", line 422, in _init_from_args\n    self._snapshot = array_ops.identity(self._variable, name=\"read\")\n  File \"/Users/maywzh/.pyenv/versions/venv-3.6.5-tf1.10/lib/python3.6/site-packages/tensorflow/python/ops/array_ops.py\", line 80, in identity\n    return gen_array_ops.identity(input, name=name)\n  File \"/Users/maywzh/.pyenv/versions/venv-3.6.5-tf1.10/lib/python3.6/site-packages/tensorflow/python/ops/gen_array_ops.py\", line 3264, in identity\n    \"Identity\", input=input, name=name)\n  File \"/Users/maywzh/.pyenv/versions/venv-3.6.5-tf1.10/lib/python3.6/site-packages/tensorflow/python/framework/op_def_library.py\", line 787, in _apply_op_helper\n    op_def=op_def)\n  File \"/Users/maywzh/.pyenv/versions/venv-3.6.5-tf1.10/lib/python3.6/site-packages/tensorflow/python/util/deprecation.py\", line 454, in new_func\n    return func(*args, **kwargs)\n  File \"/Users/maywzh/.pyenv/versions/venv-3.6.5-tf1.10/lib/python3.6/site-packages/tensorflow/python/framework/ops.py\", line 3155, in create_op\n    op_def=op_def)\n  File \"/Users/maywzh/.pyenv/versions/venv-3.6.5-tf1.10/lib/python3.6/site-packages/tensorflow/python/framework/ops.py\", line 1717, in __init__\n    self._traceback = tf_stack.extract_stack()\n\nFailedPreconditionError (see above for traceback): Attempting to use uninitialized value output_layer/weights\n\t [[Node: output_layer/weights/read = Identity[T=DT_FLOAT, _device=\"/job:localhost/replica:0/task:0/device:CPU:0\"](output_layer/weights)]]\n",
     "traceback": [
      "\u001b[0;31m---------------------------------------------------------------------------\u001b[0m",
      "\u001b[0;31mFailedPreconditionError\u001b[0m                   Traceback (most recent call last)",
      "\u001b[0;32m~/.pyenv/versions/venv-3.6.5-tf1.10/lib/python3.6/site-packages/tensorflow/python/client/session.py\u001b[0m in \u001b[0;36m_do_call\u001b[0;34m(self, fn, *args)\u001b[0m\n\u001b[1;32m   1277\u001b[0m     \u001b[0;32mtry\u001b[0m\u001b[0;34m:\u001b[0m\u001b[0;34m\u001b[0m\u001b[0m\n\u001b[0;32m-> 1278\u001b[0;31m       \u001b[0;32mreturn\u001b[0m \u001b[0mfn\u001b[0m\u001b[0;34m(\u001b[0m\u001b[0;34m*\u001b[0m\u001b[0margs\u001b[0m\u001b[0;34m)\u001b[0m\u001b[0;34m\u001b[0m\u001b[0m\n\u001b[0m\u001b[1;32m   1279\u001b[0m     \u001b[0;32mexcept\u001b[0m \u001b[0merrors\u001b[0m\u001b[0;34m.\u001b[0m\u001b[0mOpError\u001b[0m \u001b[0;32mas\u001b[0m \u001b[0me\u001b[0m\u001b[0;34m:\u001b[0m\u001b[0;34m\u001b[0m\u001b[0m\n",
      "\u001b[0;32m~/.pyenv/versions/venv-3.6.5-tf1.10/lib/python3.6/site-packages/tensorflow/python/client/session.py\u001b[0m in \u001b[0;36m_run_fn\u001b[0;34m(feed_dict, fetch_list, target_list, options, run_metadata)\u001b[0m\n\u001b[1;32m   1262\u001b[0m       return self._call_tf_sessionrun(\n\u001b[0;32m-> 1263\u001b[0;31m           options, feed_dict, fetch_list, target_list, run_metadata)\n\u001b[0m\u001b[1;32m   1264\u001b[0m \u001b[0;34m\u001b[0m\u001b[0m\n",
      "\u001b[0;32m~/.pyenv/versions/venv-3.6.5-tf1.10/lib/python3.6/site-packages/tensorflow/python/client/session.py\u001b[0m in \u001b[0;36m_call_tf_sessionrun\u001b[0;34m(self, options, feed_dict, fetch_list, target_list, run_metadata)\u001b[0m\n\u001b[1;32m   1349\u001b[0m         \u001b[0mself\u001b[0m\u001b[0;34m.\u001b[0m\u001b[0m_session\u001b[0m\u001b[0;34m,\u001b[0m \u001b[0moptions\u001b[0m\u001b[0;34m,\u001b[0m \u001b[0mfeed_dict\u001b[0m\u001b[0;34m,\u001b[0m \u001b[0mfetch_list\u001b[0m\u001b[0;34m,\u001b[0m \u001b[0mtarget_list\u001b[0m\u001b[0;34m,\u001b[0m\u001b[0;34m\u001b[0m\u001b[0m\n\u001b[0;32m-> 1350\u001b[0;31m         run_metadata)\n\u001b[0m\u001b[1;32m   1351\u001b[0m \u001b[0;34m\u001b[0m\u001b[0m\n",
      "\u001b[0;31mFailedPreconditionError\u001b[0m: Attempting to use uninitialized value output_layer/weights\n\t [[Node: output_layer/weights/read = Identity[T=DT_FLOAT, _device=\"/job:localhost/replica:0/task:0/device:CPU:0\"](output_layer/weights)]]",
      "\nDuring handling of the above exception, another exception occurred:\n",
      "\u001b[0;31mFailedPreconditionError\u001b[0m                   Traceback (most recent call last)",
      "\u001b[0;32m<ipython-input-10-3a499e3165b3>\u001b[0m in \u001b[0;36m<module>\u001b[0;34m\u001b[0m\n\u001b[0;32m----> 1\u001b[0;31m \u001b[0mm1_orig\u001b[0m\u001b[0;34m,\u001b[0m \u001b[0mm2_orig\u001b[0m \u001b[0;34m=\u001b[0m \u001b[0mdkt_original\u001b[0m\u001b[0;34m.\u001b[0m\u001b[0mconsistency\u001b[0m\u001b[0;34m(\u001b[0m\u001b[0;34m)\u001b[0m\u001b[0;34m\u001b[0m\u001b[0m\n\u001b[0m\u001b[1;32m      2\u001b[0m \u001b[0mmsg\u001b[0m \u001b[0;34m=\u001b[0m \u001b[0;34m'& 0.0 & 0.0 & 0.0 & {0:.5f} & {1:.5f} \\\\\\\\'\u001b[0m\u001b[0;34m.\u001b[0m\u001b[0mformat\u001b[0m\u001b[0;34m(\u001b[0m\u001b[0mm1_orig\u001b[0m\u001b[0;34m,\u001b[0m \u001b[0mm2_orig\u001b[0m\u001b[0;34m)\u001b[0m\u001b[0;34m\u001b[0m\u001b[0m\n",
      "\u001b[0;32m~/Workspace/ji_labworks/2020/dkt-plus/utils.py\u001b[0m in \u001b[0;36mconsistency\u001b[0;34m(self, is_train)\u001b[0m\n\u001b[1;32m    588\u001b[0m             pred_seqs = sess.run(\n\u001b[1;32m    589\u001b[0m                 \u001b[0mmodel\u001b[0m\u001b[0;34m.\u001b[0m\u001b[0mpreds\u001b[0m\u001b[0;34m,\u001b[0m\u001b[0;34m\u001b[0m\u001b[0m\n\u001b[0;32m--> 590\u001b[0;31m                 \u001b[0mfeed_dict\u001b[0m\u001b[0;34m=\u001b[0m\u001b[0mfeed_dict\u001b[0m\u001b[0;34m\u001b[0m\u001b[0m\n\u001b[0m\u001b[1;32m    591\u001b[0m             )\n\u001b[1;32m    592\u001b[0m \u001b[0;34m\u001b[0m\u001b[0m\n",
      "\u001b[0;32m~/.pyenv/versions/venv-3.6.5-tf1.10/lib/python3.6/site-packages/tensorflow/python/client/session.py\u001b[0m in \u001b[0;36mrun\u001b[0;34m(self, fetches, feed_dict, options, run_metadata)\u001b[0m\n\u001b[1;32m    875\u001b[0m     \u001b[0;32mtry\u001b[0m\u001b[0;34m:\u001b[0m\u001b[0;34m\u001b[0m\u001b[0m\n\u001b[1;32m    876\u001b[0m       result = self._run(None, fetches, feed_dict, options_ptr,\n\u001b[0;32m--> 877\u001b[0;31m                          run_metadata_ptr)\n\u001b[0m\u001b[1;32m    878\u001b[0m       \u001b[0;32mif\u001b[0m \u001b[0mrun_metadata\u001b[0m\u001b[0;34m:\u001b[0m\u001b[0;34m\u001b[0m\u001b[0m\n\u001b[1;32m    879\u001b[0m         \u001b[0mproto_data\u001b[0m \u001b[0;34m=\u001b[0m \u001b[0mtf_session\u001b[0m\u001b[0;34m.\u001b[0m\u001b[0mTF_GetBuffer\u001b[0m\u001b[0;34m(\u001b[0m\u001b[0mrun_metadata_ptr\u001b[0m\u001b[0;34m)\u001b[0m\u001b[0;34m\u001b[0m\u001b[0m\n",
      "\u001b[0;32m~/.pyenv/versions/venv-3.6.5-tf1.10/lib/python3.6/site-packages/tensorflow/python/client/session.py\u001b[0m in \u001b[0;36m_run\u001b[0;34m(self, handle, fetches, feed_dict, options, run_metadata)\u001b[0m\n\u001b[1;32m   1098\u001b[0m     \u001b[0;32mif\u001b[0m \u001b[0mfinal_fetches\u001b[0m \u001b[0;32mor\u001b[0m \u001b[0mfinal_targets\u001b[0m \u001b[0;32mor\u001b[0m \u001b[0;34m(\u001b[0m\u001b[0mhandle\u001b[0m \u001b[0;32mand\u001b[0m \u001b[0mfeed_dict_tensor\u001b[0m\u001b[0;34m)\u001b[0m\u001b[0;34m:\u001b[0m\u001b[0;34m\u001b[0m\u001b[0m\n\u001b[1;32m   1099\u001b[0m       results = self._do_run(handle, final_targets, final_fetches,\n\u001b[0;32m-> 1100\u001b[0;31m                              feed_dict_tensor, options, run_metadata)\n\u001b[0m\u001b[1;32m   1101\u001b[0m     \u001b[0;32melse\u001b[0m\u001b[0;34m:\u001b[0m\u001b[0;34m\u001b[0m\u001b[0m\n\u001b[1;32m   1102\u001b[0m       \u001b[0mresults\u001b[0m \u001b[0;34m=\u001b[0m \u001b[0;34m[\u001b[0m\u001b[0;34m]\u001b[0m\u001b[0;34m\u001b[0m\u001b[0m\n",
      "\u001b[0;32m~/.pyenv/versions/venv-3.6.5-tf1.10/lib/python3.6/site-packages/tensorflow/python/client/session.py\u001b[0m in \u001b[0;36m_do_run\u001b[0;34m(self, handle, target_list, fetch_list, feed_dict, options, run_metadata)\u001b[0m\n\u001b[1;32m   1270\u001b[0m     \u001b[0;32mif\u001b[0m \u001b[0mhandle\u001b[0m \u001b[0;32mis\u001b[0m \u001b[0;32mNone\u001b[0m\u001b[0;34m:\u001b[0m\u001b[0;34m\u001b[0m\u001b[0m\n\u001b[1;32m   1271\u001b[0m       return self._do_call(_run_fn, feeds, fetches, targets, options,\n\u001b[0;32m-> 1272\u001b[0;31m                            run_metadata)\n\u001b[0m\u001b[1;32m   1273\u001b[0m     \u001b[0;32melse\u001b[0m\u001b[0;34m:\u001b[0m\u001b[0;34m\u001b[0m\u001b[0m\n\u001b[1;32m   1274\u001b[0m       \u001b[0;32mreturn\u001b[0m \u001b[0mself\u001b[0m\u001b[0;34m.\u001b[0m\u001b[0m_do_call\u001b[0m\u001b[0;34m(\u001b[0m\u001b[0m_prun_fn\u001b[0m\u001b[0;34m,\u001b[0m \u001b[0mhandle\u001b[0m\u001b[0;34m,\u001b[0m \u001b[0mfeeds\u001b[0m\u001b[0;34m,\u001b[0m \u001b[0mfetches\u001b[0m\u001b[0;34m)\u001b[0m\u001b[0;34m\u001b[0m\u001b[0m\n",
      "\u001b[0;32m~/.pyenv/versions/venv-3.6.5-tf1.10/lib/python3.6/site-packages/tensorflow/python/client/session.py\u001b[0m in \u001b[0;36m_do_call\u001b[0;34m(self, fn, *args)\u001b[0m\n\u001b[1;32m   1289\u001b[0m         \u001b[0;32mexcept\u001b[0m \u001b[0mKeyError\u001b[0m\u001b[0;34m:\u001b[0m\u001b[0;34m\u001b[0m\u001b[0m\n\u001b[1;32m   1290\u001b[0m           \u001b[0;32mpass\u001b[0m\u001b[0;34m\u001b[0m\u001b[0m\n\u001b[0;32m-> 1291\u001b[0;31m       \u001b[0;32mraise\u001b[0m \u001b[0mtype\u001b[0m\u001b[0;34m(\u001b[0m\u001b[0me\u001b[0m\u001b[0;34m)\u001b[0m\u001b[0;34m(\u001b[0m\u001b[0mnode_def\u001b[0m\u001b[0;34m,\u001b[0m \u001b[0mop\u001b[0m\u001b[0;34m,\u001b[0m \u001b[0mmessage\u001b[0m\u001b[0;34m)\u001b[0m\u001b[0;34m\u001b[0m\u001b[0m\n\u001b[0m\u001b[1;32m   1292\u001b[0m \u001b[0;34m\u001b[0m\u001b[0m\n\u001b[1;32m   1293\u001b[0m   \u001b[0;32mdef\u001b[0m \u001b[0m_extend_graph\u001b[0m\u001b[0;34m(\u001b[0m\u001b[0mself\u001b[0m\u001b[0;34m)\u001b[0m\u001b[0;34m:\u001b[0m\u001b[0;34m\u001b[0m\u001b[0m\n",
      "\u001b[0;31mFailedPreconditionError\u001b[0m: Attempting to use uninitialized value output_layer/weights\n\t [[Node: output_layer/weights/read = Identity[T=DT_FLOAT, _device=\"/job:localhost/replica:0/task:0/device:CPU:0\"](output_layer/weights)]]\n\nCaused by op 'output_layer/weights/read', defined at:\n  File \"/Users/maywzh/.pyenv/versions/3.6.5/lib/python3.6/runpy.py\", line 193, in _run_module_as_main\n    \"__main__\", mod_spec)\n  File \"/Users/maywzh/.pyenv/versions/3.6.5/lib/python3.6/runpy.py\", line 85, in _run_code\n    exec(code, run_globals)\n  File \"/Users/maywzh/.pyenv/versions/venv-3.6.5-tf1.10/lib/python3.6/site-packages/ipykernel_launcher.py\", line 16, in <module>\n    app.launch_new_instance()\n  File \"/Users/maywzh/.pyenv/versions/venv-3.6.5-tf1.10/lib/python3.6/site-packages/traitlets/config/application.py\", line 664, in launch_instance\n    app.start()\n  File \"/Users/maywzh/.pyenv/versions/venv-3.6.5-tf1.10/lib/python3.6/site-packages/ipykernel/kernelapp.py\", line 612, in start\n    self.io_loop.start()\n  File \"/Users/maywzh/.pyenv/versions/venv-3.6.5-tf1.10/lib/python3.6/site-packages/tornado/platform/asyncio.py\", line 149, in start\n    self.asyncio_loop.run_forever()\n  File \"/Users/maywzh/.pyenv/versions/3.6.5/lib/python3.6/asyncio/base_events.py\", line 422, in run_forever\n    self._run_once()\n  File \"/Users/maywzh/.pyenv/versions/3.6.5/lib/python3.6/asyncio/base_events.py\", line 1432, in _run_once\n    handle._run()\n  File \"/Users/maywzh/.pyenv/versions/3.6.5/lib/python3.6/asyncio/events.py\", line 145, in _run\n    self._callback(*self._args)\n  File \"/Users/maywzh/.pyenv/versions/venv-3.6.5-tf1.10/lib/python3.6/site-packages/tornado/ioloop.py\", line 690, in <lambda>\n    lambda f: self._run_callback(functools.partial(callback, future))\n  File \"/Users/maywzh/.pyenv/versions/venv-3.6.5-tf1.10/lib/python3.6/site-packages/tornado/ioloop.py\", line 743, in _run_callback\n    ret = callback()\n  File \"/Users/maywzh/.pyenv/versions/venv-3.6.5-tf1.10/lib/python3.6/site-packages/tornado/gen.py\", line 787, in inner\n    self.run()\n  File \"/Users/maywzh/.pyenv/versions/venv-3.6.5-tf1.10/lib/python3.6/site-packages/tornado/gen.py\", line 748, in run\n    yielded = self.gen.send(value)\n  File \"/Users/maywzh/.pyenv/versions/venv-3.6.5-tf1.10/lib/python3.6/site-packages/ipykernel/kernelbase.py\", line 365, in process_one\n    yield gen.maybe_future(dispatch(*args))\n  File \"/Users/maywzh/.pyenv/versions/venv-3.6.5-tf1.10/lib/python3.6/site-packages/tornado/gen.py\", line 209, in wrapper\n    yielded = next(result)\n  File \"/Users/maywzh/.pyenv/versions/venv-3.6.5-tf1.10/lib/python3.6/site-packages/ipykernel/kernelbase.py\", line 268, in dispatch_shell\n    yield gen.maybe_future(handler(stream, idents, msg))\n  File \"/Users/maywzh/.pyenv/versions/venv-3.6.5-tf1.10/lib/python3.6/site-packages/tornado/gen.py\", line 209, in wrapper\n    yielded = next(result)\n  File \"/Users/maywzh/.pyenv/versions/venv-3.6.5-tf1.10/lib/python3.6/site-packages/ipykernel/kernelbase.py\", line 545, in execute_request\n    user_expressions, allow_stdin,\n  File \"/Users/maywzh/.pyenv/versions/venv-3.6.5-tf1.10/lib/python3.6/site-packages/tornado/gen.py\", line 209, in wrapper\n    yielded = next(result)\n  File \"/Users/maywzh/.pyenv/versions/venv-3.6.5-tf1.10/lib/python3.6/site-packages/ipykernel/ipkernel.py\", line 306, in do_execute\n    res = shell.run_cell(code, store_history=store_history, silent=silent)\n  File \"/Users/maywzh/.pyenv/versions/venv-3.6.5-tf1.10/lib/python3.6/site-packages/ipykernel/zmqshell.py\", line 536, in run_cell\n    return super(ZMQInteractiveShell, self).run_cell(*args, **kwargs)\n  File \"/Users/maywzh/.pyenv/versions/venv-3.6.5-tf1.10/lib/python3.6/site-packages/IPython/core/interactiveshell.py\", line 2867, in run_cell\n    raw_cell, store_history, silent, shell_futures)\n  File \"/Users/maywzh/.pyenv/versions/venv-3.6.5-tf1.10/lib/python3.6/site-packages/IPython/core/interactiveshell.py\", line 2895, in _run_cell\n    return runner(coro)\n  File \"/Users/maywzh/.pyenv/versions/venv-3.6.5-tf1.10/lib/python3.6/site-packages/IPython/core/async_helpers.py\", line 68, in _pseudo_sync_runner\n    coro.send(None)\n  File \"/Users/maywzh/.pyenv/versions/venv-3.6.5-tf1.10/lib/python3.6/site-packages/IPython/core/interactiveshell.py\", line 3072, in run_cell_async\n    interactivity=interactivity, compiler=compiler, result=result)\n  File \"/Users/maywzh/.pyenv/versions/venv-3.6.5-tf1.10/lib/python3.6/site-packages/IPython/core/interactiveshell.py\", line 3263, in run_ast_nodes\n    if (await self.run_code(code, result,  async_=asy)):\n  File \"/Users/maywzh/.pyenv/versions/venv-3.6.5-tf1.10/lib/python3.6/site-packages/IPython/core/interactiveshell.py\", line 3343, in run_code\n    exec(code_obj, self.user_global_ns, self.user_ns)\n  File \"<ipython-input-6-2601761dace2>\", line 14, in <module>\n    dkt_original.model.build_graph()\n  File \"/Users/maywzh/Workspace/ji_labworks/2020/dkt-plus/model.py\", line 161, in build_graph\n    self._create_loss()\n  File \"/Users/maywzh/Workspace/ji_labworks/2020/dkt-plus/model.py\", line 85, in _create_loss\n    initializer=tf.random_normal_initializer(stddev=1.0 / np.sqrt(self.num_problems)))\n  File \"/Users/maywzh/.pyenv/versions/venv-3.6.5-tf1.10/lib/python3.6/site-packages/tensorflow/python/ops/variable_scope.py\", line 1467, in get_variable\n    aggregation=aggregation)\n  File \"/Users/maywzh/.pyenv/versions/venv-3.6.5-tf1.10/lib/python3.6/site-packages/tensorflow/python/ops/variable_scope.py\", line 1217, in get_variable\n    aggregation=aggregation)\n  File \"/Users/maywzh/.pyenv/versions/venv-3.6.5-tf1.10/lib/python3.6/site-packages/tensorflow/python/ops/variable_scope.py\", line 527, in get_variable\n    aggregation=aggregation)\n  File \"/Users/maywzh/.pyenv/versions/venv-3.6.5-tf1.10/lib/python3.6/site-packages/tensorflow/python/ops/variable_scope.py\", line 481, in _true_getter\n    aggregation=aggregation)\n  File \"/Users/maywzh/.pyenv/versions/venv-3.6.5-tf1.10/lib/python3.6/site-packages/tensorflow/python/ops/variable_scope.py\", line 903, in _get_single_variable\n    aggregation=aggregation)\n  File \"/Users/maywzh/.pyenv/versions/venv-3.6.5-tf1.10/lib/python3.6/site-packages/tensorflow/python/ops/variable_scope.py\", line 2443, in variable\n    aggregation=aggregation)\n  File \"/Users/maywzh/.pyenv/versions/venv-3.6.5-tf1.10/lib/python3.6/site-packages/tensorflow/python/ops/variable_scope.py\", line 2425, in <lambda>\n    previous_getter = lambda **kwargs: default_variable_creator(None, **kwargs)\n  File \"/Users/maywzh/.pyenv/versions/venv-3.6.5-tf1.10/lib/python3.6/site-packages/tensorflow/python/ops/variable_scope.py\", line 2406, in default_variable_creator\n    constraint=constraint)\n  File \"/Users/maywzh/.pyenv/versions/venv-3.6.5-tf1.10/lib/python3.6/site-packages/tensorflow/python/ops/variables.py\", line 259, in __init__\n    constraint=constraint)\n  File \"/Users/maywzh/.pyenv/versions/venv-3.6.5-tf1.10/lib/python3.6/site-packages/tensorflow/python/ops/variables.py\", line 422, in _init_from_args\n    self._snapshot = array_ops.identity(self._variable, name=\"read\")\n  File \"/Users/maywzh/.pyenv/versions/venv-3.6.5-tf1.10/lib/python3.6/site-packages/tensorflow/python/ops/array_ops.py\", line 80, in identity\n    return gen_array_ops.identity(input, name=name)\n  File \"/Users/maywzh/.pyenv/versions/venv-3.6.5-tf1.10/lib/python3.6/site-packages/tensorflow/python/ops/gen_array_ops.py\", line 3264, in identity\n    \"Identity\", input=input, name=name)\n  File \"/Users/maywzh/.pyenv/versions/venv-3.6.5-tf1.10/lib/python3.6/site-packages/tensorflow/python/framework/op_def_library.py\", line 787, in _apply_op_helper\n    op_def=op_def)\n  File \"/Users/maywzh/.pyenv/versions/venv-3.6.5-tf1.10/lib/python3.6/site-packages/tensorflow/python/util/deprecation.py\", line 454, in new_func\n    return func(*args, **kwargs)\n  File \"/Users/maywzh/.pyenv/versions/venv-3.6.5-tf1.10/lib/python3.6/site-packages/tensorflow/python/framework/ops.py\", line 3155, in create_op\n    op_def=op_def)\n  File \"/Users/maywzh/.pyenv/versions/venv-3.6.5-tf1.10/lib/python3.6/site-packages/tensorflow/python/framework/ops.py\", line 1717, in __init__\n    self._traceback = tf_stack.extract_stack()\n\nFailedPreconditionError (see above for traceback): Attempting to use uninitialized value output_layer/weights\n\t [[Node: output_layer/weights/read = Identity[T=DT_FLOAT, _device=\"/job:localhost/replica:0/task:0/device:CPU:0\"](output_layer/weights)]]\n"
     ]
    }
   ],
   "source": [
    "m1_orig, m2_orig = dkt_original.consistency()\n",
    "msg = '& 0.0 & 0.0 & 0.0 & {0:.5f} & {1:.5f} \\\\\\\\'.format(m1_orig, m2_orig)"
   ]
  },
  {
   "cell_type": "code",
   "execution_count": null,
   "metadata": {
    "collapsed": true
   },
   "outputs": [],
   "source": [
    "print(dkt_original.waviness())\n",
    "print(dkt_original.waviness_np())"
   ]
  },
  {
   "cell_type": "code",
   "execution_count": null,
   "metadata": {
    "collapsed": true
   },
   "outputs": [],
   "source": [
    "rnn_cells = {\n",
    "    \"LSTM\": tf.contrib.rnn.LSTMCell,\n",
    "    \"GRU\": tf.contrib.rnn.GRUCell,\n",
    "    \"BasicRNN\": tf.contrib.rnn.BasicRNNCell,\n",
    "    \"LayerNormBasicLSTM\": tf.contrib.rnn.LayerNormBasicLSTMCell,\n",
    "}\n",
    "\n",
    "# train_path = os.path.join('./data/', 'skill_id_train.csv')\n",
    "# test_path = os.path.join('./data/', 'skill_id_test.csv')\n",
    "\n",
    "network_config = {}\n",
    "network_config['batch_size'] = 32\n",
    "network_config['hidden_layer_structure'] = [200]\n",
    "network_config['learning_rate'] = 0.01\n",
    "network_config['keep_prob'] = 0.333\n",
    "network_config['rnn_cell'] = rnn_cells[\"LSTM\"]\n",
    "\n",
    "network_config['lambda_o'] = 0.1\n",
    "network_config['lambda_w1'] = 0.003\n",
    "network_config['lambda_w2'] = 3.0\n",
    "\n",
    "# save_dir_prefix = 'checkpoints/n200.lo0.1.lw10.03.lw230.0'\n",
    "\n",
    "num_runs = 1\n",
    "num_epochs = 1\n",
    "batch_size = 32\n",
    "keep_prob = 0.333"
   ]
  },
  {
   "cell_type": "code",
   "execution_count": null,
   "metadata": {
    "collapsed": true
   },
   "outputs": [],
   "source": [
    "tf.reset_default_graph()"
   ]
  },
  {
   "cell_type": "code",
   "execution_count": null,
   "metadata": {},
   "outputs": [],
   "source": [
    "sess = tf.Session()\n",
    "\n",
    "data = DKTData(train_path, test_path, batch_size=batch_size)\n",
    "data_train = data.train\n",
    "data_test = data.test\n",
    "num_problems = data.num_problems\n",
    "\n",
    "dkt = DKT(sess, data_train, data_test, num_problems, network_config,\n",
    "          num_runs=num_runs, num_epochs=num_epochs,\n",
    "          save_dir_prefix=save_dir_prefix,\n",
    "          keep_prob=keep_prob, logging=False, save=False)\n",
    "\n",
    "# load the model\n",
    "dkt.model.build_graph()\n",
    "dkt.load_model()"
   ]
  },
  {
   "cell_type": "code",
   "execution_count": null,
   "metadata": {
    "collapsed": true
   },
   "outputs": [],
   "source": [
    "m1, m2 = dkt.consistency()\n",
    "msg2 = '& {0} & {1} & {2} & {3:.5f} & {4:.5f} \\\\\\\\'.format(network_config['lambda_o'],\n",
    "                                                   network_config['lambda_w1'],\n",
    "                                                   network_config['lambda_w2'],\n",
    "                                                   m1,\n",
    "                                                   m2)"
   ]
  },
  {
   "cell_type": "code",
   "execution_count": null,
   "metadata": {},
   "outputs": [],
   "source": [
    "print(msg)\n",
    "print(msg2)"
   ]
  },
  {
   "cell_type": "code",
   "execution_count": null,
   "metadata": {
    "collapsed": true,
    "scrolled": false
   },
   "outputs": [],
   "source": [
    "print(dkt.evaluate()) # return: auc_n, auc_c, total_loss\n",
    "print(dkt.waviness())"
   ]
  },
  {
   "cell_type": "code",
   "execution_count": null,
   "metadata": {
    "collapsed": true
   },
   "outputs": [],
   "source": [
    "print(\"original model: \", dkt_original.reconstruction_accurarcy())\n",
    "print(\"regularized model: \", dkt.reconstruction_accurarcy())"
   ]
  },
  {
   "cell_type": "markdown",
   "metadata": {
    "collapsed": true
   },
   "source": [
    "# Visualization\n",
    "In the following, the student output and hidden layer will be visualized."
   ]
  },
  {
   "cell_type": "code",
   "execution_count": null,
   "metadata": {},
   "outputs": [],
   "source": [
    "problem_seqs_test = dkt.data_test.problem_seqs\n",
    "correct_seqs_test = dkt.data_test.correct_seqs\n",
    "targets = []\n",
    "for i in range(len(problem_seqs_test)):\n",
    "    num_question_answered = len(problem_seqs_test[i])\n",
    "    question_ids_answered = sorted(set(problem_seqs_test[i]))\n",
    "    num_distict_question = len(question_ids_answered)\n",
    "    \n",
    "    if 50 >= num_question_answered >= 30 and 10 >= num_distict_question >= 5:\n",
    "        targets.append(i)\n",
    "    \n",
    "print(targets)"
   ]
  },
  {
   "cell_type": "code",
   "execution_count": null,
   "metadata": {
    "collapsed": true
   },
   "outputs": [],
   "source": [
    "if False:\n",
    "    plt.figure(figsize=(15, 2))\n",
    "    plt.ion()\n",
    "    for i, sid in enumerate(targets):\n",
    "        plt.figure(i+1)\n",
    "        plt.figure(figsize=(15, 2))\n",
    "        plt.title('student-id{0}'.format(sid))\n",
    "        num_problem_answered = len(problem_seqs_test[sid])\n",
    "        problems_ids_answered = sorted(set(problem_seqs_test[sid]))\n",
    "        num_distict_question = len(question_ids_answered)\n",
    "\n",
    "        problem_seq = problem_seqs_test[sid][:num_problem_answered]\n",
    "        correct_seq = correct_seqs_test[sid][:num_problem_answered]\n",
    "        dkt.plot_output_layer(problem_seq=problem_seq, correct_seq=correct_seq)"
   ]
  },
  {
   "cell_type": "code",
   "execution_count": null,
   "metadata": {},
   "outputs": [],
   "source": [
    "# selecting one student to visualize\n",
    "# good example: 17, 35(able to discover skill relation), 62, 81, 97, 103, 126, 128, 98, 207, 247, 292\n",
    "# wavy example: 1, 30, 32, 40, 170, 297, 467, 525, 544, 578, 579, 598, 638, 715**, 729\n",
    "# counter-intuitive example: 30(49(0)), 17(45(0)), 32(12(1)), *40(12(0)), 62(12(0)), 98((7(0))), 544(0(1)), 726(34(0))\n",
    "sid = 1\n",
    "num_problem_answered = len(problem_seqs_test[sid])\n",
    "problems_ids_answered = sorted(set(problem_seqs_test[sid]))\n",
    "num_distict_question = len(question_ids_answered)\n",
    "\n",
    "problem_seq = problem_seqs_test[sid][:num_problem_answered]\n",
    "correct_seq = correct_seqs_test[sid][:num_problem_answered]\n",
    "\n",
    "print(num_problem_answered)\n",
    "print(problem_seq)\n",
    "print(correct_seq)"
   ]
  },
  {
   "cell_type": "markdown",
   "metadata": {},
   "source": [
    "## Visualizing the Output Layer"
   ]
  },
  {
   "cell_type": "code",
   "execution_count": null,
   "metadata": {
    "collapsed": true
   },
   "outputs": [],
   "source": [
    "import matplotlib.pyplot as plt\n",
    "%matplotlib inline"
   ]
  },
  {
   "cell_type": "code",
   "execution_count": null,
   "metadata": {
    "collapsed": true
   },
   "outputs": [],
   "source": [
    "output_dkt = dkt.get_output_layer([problem_seq], [correct_seq])\n",
    "output_original = dkt_original.get_output_layer([problem_seq], [correct_seq])"
   ]
  },
  {
   "cell_type": "code",
   "execution_count": null,
   "metadata": {},
   "outputs": [],
   "source": [
    "plt.figure(figsize=(15, 2))\n",
    "dkt_fig = dkt_original.plot_output_layer(problem_seq=problem_seq, correct_seq=correct_seq)\n",
    "\n",
    "figure = dkt_fig.get_figure()    \n",
    "figure.savefig('dkt_id1.pdf', bbox_inches='tight')#, bbox_extra_artist=[lgd])"
   ]
  },
  {
   "cell_type": "code",
   "execution_count": null,
   "metadata": {},
   "outputs": [],
   "source": [
    "plt.figure(figsize=(15, 2))\n",
    "dkt.plot_output_layer(problem_seq=problem_seq, correct_seq=correct_seq)\n",
    "\n",
    "figure = dkt_fig.get_figure() \n",
    "plt.savefig('dktr_id1.pdf', bbox_inches='tight')"
   ]
  },
  {
   "cell_type": "code",
   "execution_count": null,
   "metadata": {},
   "outputs": [],
   "source": [
    "plt.figure(figsize=(15, 30))\n",
    "dkt.plot_output_layer(problem_seq=problem_seq, correct_seq=correct_seq, \n",
    "                      target_problem_ids=range(124))"
   ]
  },
  {
   "cell_type": "code",
   "execution_count": null,
   "metadata": {},
   "outputs": [],
   "source": [
    "problem_seq_aug = problem_seq + [21] * 50\n",
    "correct_seq_aug = correct_seq + [1, 0] * 25"
   ]
  },
  {
   "cell_type": "code",
   "execution_count": null,
   "metadata": {},
   "outputs": [],
   "source": [
    "plt.figure(figsize=(15, 30))\n",
    "dkt.plot_output_layer(problem_seq=problem_seq_aug, correct_seq=correct_seq_aug, \n",
    "                      target_problem_ids=range(124))"
   ]
  },
  {
   "cell_type": "code",
   "execution_count": null,
   "metadata": {
    "collapsed": true
   },
   "outputs": [],
   "source": [
    "plt.figure(figsize=(15, 2))\n",
    "problem_seq = [55, 45, 55, 55, 55, 45, 98, 98, 98,\n",
    "               33, 32, 33, 32, 33, 32, 33, 32, 32,\n",
    "               33, 32, 33, 32, 33, 32, 33, 33, 32,\n",
    "               33, 32, 32, 33, 32, 33, 33, 32, 32, \n",
    "               33, 33, 32, 33, 32, 33, 32, 33, 32, \n",
    "               33, 33, -1, -1, -1, -1, -1, -1]\n",
    "correct_seq = [1, 1, 1, 1, 0, 0, 1, 1, 1, 0,\n",
    "               0, 0, 0, 0, 0, 0, 0, 0, 0, 1,\n",
    "               1, 0, 0, 0, 0, 0, 0, 0, 0, 0,\n",
    "               0, 1, 1, 1, 1, 0, 0, 0, 0, 0,\n",
    "               0, 1, 1, 0, 0, 1, 1, -1, -1, -1, -1, -1, -1]\n",
    "dkt.plot_output_layer(problem_seq=problem_seq, correct_seq=correct_seq)"
   ]
  },
  {
   "cell_type": "code",
   "execution_count": null,
   "metadata": {
    "collapsed": true
   },
   "outputs": [],
   "source": [
    "plt.figure(figsize=(15, 30))\n",
    "dkt.plot_hidden_layer(problem_seq=problem_seq, correct_seq=correct_seq, layer=0)"
   ]
  },
  {
   "cell_type": "code",
   "execution_count": null,
   "metadata": {
    "collapsed": true
   },
   "outputs": [],
   "source": [
    "plt.figure(figsize=(10, 30))\n",
    "dkt.plot_hidden_layer(problem_seq=problem_seq, correct_seq=correct_seq, layer=0)"
   ]
  },
  {
   "cell_type": "markdown",
   "metadata": {},
   "source": [
    "# Comparing two dkt output"
   ]
  },
  {
   "cell_type": "code",
   "execution_count": null,
   "metadata": {
    "collapsed": true
   },
   "outputs": [],
   "source": [
    "output_dkt = dkt.get_output_layer([problem_seq], [correct_seq])[0]\n",
    "output_original = dkt_original.get_output_layer([problem_seq], [correct_seq])[0]"
   ]
  },
  {
   "cell_type": "code",
   "execution_count": null,
   "metadata": {
    "collapsed": true
   },
   "outputs": [],
   "source": [
    "output_dkt.shape"
   ]
  },
  {
   "cell_type": "code",
   "execution_count": null,
   "metadata": {},
   "outputs": [],
   "source": [
    "# red dashes, blue squares and green triangles\n",
    "problem_ids_answered = sorted(set(problem_seq))\n",
    "target_problem_ids = problem_ids_answered\n",
    "\n",
    "# get_output_layer return output in shape (1, 38, 124)\n",
    "output_dkt = dkt.get_output_layer([problem_seq], [correct_seq])[0]\n",
    "output_original = dkt_original.get_output_layer([problem_seq], [correct_seq])[0]\n",
    "output_dkt = np.transpose(output_dkt[:, target_problem_ids])  # shape (?, 38)\n",
    "output_original = np.transpose(output_original[:, target_problem_ids])\n",
    "\n",
    "timesteps = range(output_original.shape[1])\n",
    "\n",
    "plt.figure(figsize=(15, 6))\n",
    "plt.figure(1)\n",
    "plt.subplot(211)\n",
    "plt_legends = []\n",
    "color_list = [\n",
    "    '#ffb0a1', \n",
    "    '#5c2c00',\n",
    "    '#cf36ff',\n",
    "    '#d2691e',\n",
    "    '#5a9e68', \n",
    "    '#dc4c46',\n",
    "    '#672E3B',\n",
    "    '#F3D6E4',\n",
    "    '#223a5e',\n",
    "    '#005960',\n",
    "]\n",
    "for i in range(output_original.shape[0]):\n",
    "    _plot = plt.plot(timesteps, output_dkt[i], '-', color=color_list[i], label='e{0}'.format(target_problem_ids[i]))\n",
    "    plt_legends.append(_plot)\n",
    "plt.legend(bbox_to_anchor=(1.05, 1), loc=2, borderaxespad=0.)\n",
    "plt.title('DKT+')\n",
    "plt.grid(True)\n",
    "\n",
    "\n",
    "plt.subplot(212)\n",
    "for i in range(output_original.shape[0]):\n",
    "    _plot = plt.plot(timesteps, output_original[i], '--', color=color_list[i], label='e{0}'.format(target_problem_ids[i]))\n",
    "    plt_legends.append(_plot)\n",
    "plt.legend(bbox_to_anchor=(1.05, 1), loc=2, borderaxespad=0.)\n",
    "plt.title('DKT')\n",
    "plt.grid(True)\n",
    "# plt.plot(t, t, 'r--', t, t**2, 'bs', t, t**3, 'g^')\n",
    "\n",
    "# plt.tight_layout()\n",
    "plt.savefig('comparison_id1.pdf', bbox_inches='tight')"
   ]
  },
  {
   "cell_type": "code",
   "execution_count": null,
   "metadata": {},
   "outputs": [],
   "source": [
    "# red dashes, blue squares and green triangles\n",
    "problem_ids_answered = sorted(set(problem_seq))\n",
    "target_problem_ids = problem_ids_answered\n",
    "num_problem = len(target_problem_ids)\n",
    "\n",
    "# get_output_layer return output in shape (1, 38, 124)\n",
    "output_dkt = dkt.get_output_layer([problem_seq], [correct_seq])[0]\n",
    "output_original = dkt_original.get_output_layer([problem_seq], [correct_seq])[0]\n",
    "output_dkt = np.transpose(output_dkt[:, target_problem_ids])  # shape (?, 38)\n",
    "output_original = np.transpose(output_original[:, target_problem_ids])\n",
    "\n",
    "timesteps = range(output_original.shape[1])\n",
    "\n",
    "subplot_base = 100*num_problem + 10\n",
    "plt.figure(figsize=(15, 7))\n",
    "plt.figure(1)\n",
    "color_list = [\n",
    "    '#ffb0a1', \n",
    "    '#5c2c00',\n",
    "    '#cf36ff',\n",
    "    '#d2691e',\n",
    "    '#5a9e68', \n",
    "    '#dc4c46',\n",
    "    '#672E3B',\n",
    "    '#F3D6E4',\n",
    "    '#223a5e',\n",
    "    '#005960',\n",
    "]\n",
    "\n",
    "for i in range(num_problem):\n",
    "    plt.subplot(subplot_base + i + 1)\n",
    "    plt.plot(timesteps, output_dkt[i], '-', color=color_list[i], label='DKT+, e{0}'.format(target_problem_ids[i]))\n",
    "    plt.plot(timesteps, output_original[i], '--', color=color_list[i], label='DKT, e{0}'.format(target_problem_ids[i]))\n",
    "#     plt.title('{0}'.format(target_problem_ids[i]))\n",
    "    plt.legend(bbox_to_anchor=(1.05, 1), loc=2, borderaxespad=0.)\n",
    "    plt.ylim([0.0, 1.0])\n",
    "\n",
    "# for i in range(output_original.shape[0]):\n",
    "#     _plot = plt.plot(timesteps, output_dkt[i], '-', color=color_list[i], label='{0}'.format(target_problem_ids[i]))\n",
    "#     plt_legends.append(_plot)\n",
    "# plt.legend(bbox_to_anchor=(1.05, 1), loc=2, borderaxespad=0.)\n",
    "# plt.title('DKT+')\n",
    "# plt.grid(True)\n",
    "\n",
    "\n",
    "# plt.subplot(212)\n",
    "# for i in range(output_original.shape[0]):\n",
    "#     _plot = plt.plot(timesteps, output_original[i], '--', color=color_list[i], label='{0}'.format(target_problem_ids[i]))\n",
    "#     plt_legends.append(_plot)\n",
    "# plt.legend(bbox_to_anchor=(1.05, 1), loc=2, borderaxespad=0.)\n",
    "# plt.title('DKT')\n",
    "# plt.grid(True)\n",
    "# # plt.plot(t, t, 'r--', t, t**2, 'bs', t, t**3, 'g^')\n",
    "\n",
    "# fig.legend(bbox_to_anchor=(1.05, 1), loc=2, borderaxespad=0.)\n",
    "# plt.show()\n",
    "\n",
    "# plt.tight_layout()\n",
    "plt.savefig('comparison_v2_id1.pdf', bbox_inches='tight')"
   ]
  },
  {
   "cell_type": "markdown",
   "metadata": {},
   "source": [
    "## Danger Experimental Laboratory\n",
    "Here is where I do the experiment coding"
   ]
  },
  {
   "cell_type": "code",
   "execution_count": null,
   "metadata": {
    "collapsed": true
   },
   "outputs": [],
   "source": [
    "dkt.get_hidden_layer_output(problem_seqs=[question_seq], correct_seqs=[correct_seq], layer=0)[0].shape"
   ]
  },
  {
   "cell_type": "code",
   "execution_count": null,
   "metadata": {
    "collapsed": true
   },
   "outputs": [],
   "source": [
    "output_layer = dkt.get_output_layer(problem_seqs=[question_seq], correct_seqs=[correct_seq])\n",
    "\n",
    "output_layer = output_layer[:num_question_answered, question_ids_answered]\n",
    "output_layer = np.transpose(output_layer)"
   ]
  },
  {
   "cell_type": "code",
   "execution_count": null,
   "metadata": {
    "collapsed": true
   },
   "outputs": [],
   "source": [
    "import seaborn as sns\n",
    "import matplotlib.pyplot as plt\n",
    "import pandas as pd"
   ]
  },
  {
   "cell_type": "code",
   "execution_count": null,
   "metadata": {
    "collapsed": true
   },
   "outputs": [],
   "source": [
    "df = pd.DataFrame(output_layer)\n",
    "df.columns = question_seq[:-1]\n",
    "df.index = question_ids_answered\n",
    "df"
   ]
  },
  {
   "cell_type": "code",
   "execution_count": null,
   "metadata": {
    "collapsed": true
   },
   "outputs": [],
   "source": [
    "plt.figure(figsize=(20, 5))\n",
    "sns.heatmap(df, vmin=0, vmax=1, cmap=plt.cm.Blues, annot=False)"
   ]
  },
  {
   "cell_type": "code",
   "execution_count": null,
   "metadata": {
    "collapsed": true
   },
   "outputs": [],
   "source": [
    "plot_heatmap(output_layer, x_labels=question_seq[:-1], y_labels=question_ids_answered)"
   ]
  },
  {
   "cell_type": "code",
   "execution_count": null,
   "metadata": {
    "collapsed": true
   },
   "outputs": [],
   "source": [
    "# sess.close()"
   ]
  },
  {
   "cell_type": "markdown",
   "metadata": {},
   "source": [
    "## Appendix\n",
    "Skill id to name\n",
    "```\n",
    "0 (1.0, 'Box and Whisker')\n",
    "1 (2.0, 'Circle Graph')\n",
    "2 (4.0, 'Histogram as Table or Graph')\n",
    "3 (5.0, 'Number Line')\n",
    "4 (8.0, 'Scatter Plot')\n",
    "5 (9.0, 'Stem and Leaf Plot')\n",
    "6 (10.0, 'Table')\n",
    "7 (11.0, 'Venn Diagram')\n",
    "8 (12.0, 'Mean')\n",
    "9 (13.0, 'Median')\n",
    "10 (14.0, 'Mode')\n",
    "11 (15.0, 'Range')\n",
    "12 (16.0, 'Counting Methods')\n",
    "13 (17.0, 'Probability of Two Distinct Events')\n",
    "14 (18.0, 'Probability of a Single Event')\n",
    "15 (21.0, 'Interior Angles Figures with More than 3 Sides')\n",
    "16 (22.0, 'Interior Angles Triangle')\n",
    "17 (24.0, 'Congruence')\n",
    "18 (25.0, 'Complementary and Supplementary Angles')\n",
    "19 (26.0, 'Angles on Parallel Lines Cut by a Transversal')\n",
    "20 (27.0, 'Pythagorean Theorem')\n",
    "21 (32.0, 'Nets of 3D Figures')\n",
    "22 (34.0, 'Unit Conversion Within a System')\n",
    "23 (35.0, 'Effect of Changing Dimensions of a Shape Prportionally')\n",
    "24 (37.0, nan)\n",
    "25 (39.0, 'Area Circle')\n",
    "26 (40.0, 'Circumference ')\n",
    "27 (42.0, 'Perimeter of a Polygon')\n",
    "28 (43.0, 'Reading a Ruler or Scale')\n",
    "29 (46.0, 'Calculations with Similar Figures')\n",
    "30 (47.0, 'Conversion of Fraction Decimals Percents')\n",
    "31 (48.0, 'Equivalent Fractions')\n",
    "32 (49.0, 'Ordering Positive Decimals')\n",
    "33 (50.0, 'Ordering Fractions')\n",
    "34 (51.0, 'Ordering Integers')\n",
    "35 (53.0, 'Ordering Real Numbers')\n",
    "36 (54.0, 'Rounding')\n",
    "37 (58.0, 'Addition Whole Numbers')\n",
    "38 (61.0, 'Division Fractions')\n",
    "39 (63.0, 'Estimation')\n",
    "40 (64.0, 'Fraction Of')\n",
    "41 (65.0, 'Least Common Multiple')\n",
    "42 (67.0, 'Multiplication Fractions')\n",
    "43 (69.0, 'Multiplication Whole Numbers')\n",
    "44 (70.0, 'Percent Of')\n",
    "45 (74.0, 'Subtraction Whole Numbers')\n",
    "46 (75.0, 'Square Root')\n",
    "47 (76.0, nan)\n",
    "48 (77.0, 'Finding Percents')\n",
    "49 (79.0, 'Proportion')\n",
    "50 (80.0, 'Scale Factor')\n",
    "51 (81.0, 'Unit Rate')\n",
    "52 (82.0, 'Scientific Notation')\n",
    "53 (83.0, 'Divisibility Rules')\n",
    "54 (84.0, 'Prime Number')\n",
    "55 (85.0, 'Absolute Value')\n",
    "56 (86.0, 'Exponents')\n",
    "57 (91.0, nan)\n",
    "58 (92.0, 'Pattern Finding ')\n",
    "59 (94.0, nan)\n",
    "60 (96.0, nan)\n",
    "61 (97.0, nan)\n",
    "62 (99.0, nan)\n",
    "63 (101.0, nan)\n",
    "64 (102.0, nan)\n",
    "65 (104.0, nan)\n",
    "66 (105.0, nan)\n",
    "67 (110.0, 'D.4.8-understanding-concept-of-probabilities')\n",
    "68 (163.0, 'Absolute Value')\n",
    "69 (165.0, 'Algebraic Simplification')\n",
    "70 (166.0, 'Algebraic Solving')\n",
    "71 (173.0, 'Choose an Equation from Given Information')\n",
    "72 (190.0, 'Intercept')\n",
    "73 (193.0, 'Linear Equations')\n",
    "74 (203.0, 'Percent Discount')\n",
    "75 (204.0, 'Percents')\n",
    "76 (217.0, 'Rate')\n",
    "77 (221.0, 'Slope')\n",
    "78 (276.0, 'Multiplication and Division Positive Decimals')\n",
    "79 (277.0, 'Addition and Subtraction Integers')\n",
    "80 (278.0, 'Addition and Subtraction Positive Decimals')\n",
    "81 (279.0, 'Multiplication and Division Integers')\n",
    "82 (280.0, 'Addition and Subtraction Fractions')\n",
    "83 (290.0, 'Reflection')\n",
    "84 (292.0, 'Rotations')\n",
    "85 (293.0, 'Translations')\n",
    "86 (294.0, 'Area Irregular Figure')\n",
    "87 (295.0, 'Area Parallelogram')\n",
    "88 (296.0, 'Area Rectangle')\n",
    "89 (297.0, 'Area Trapezoid')\n",
    "90 (298.0, 'Area Triangle')\n",
    "91 (299.0, 'Surface Area Cylinder')\n",
    "92 (301.0, 'Surface Area Rectangular Prism')\n",
    "93 (303.0, 'Volume Cylinder')\n",
    "94 (307.0, 'Volume Rectangular Prism')\n",
    "95 (308.0, 'Volume Sphere')\n",
    "96 (309.0, 'Order of Operations +,-,/,* () positive reals')\n",
    "97 (310.0, 'Order of Operations All')\n",
    "98 (311.0, 'Equation Solving Two or Fewer Steps')\n",
    "99 (312.0, 'Equation Solving More Than Two Steps')\n",
    "100 (314.0, 'Angles - Obtuse, Acute, and Right')\n",
    "101 (317.0, 'Greatest Common Factor')\n",
    "102 (321.0, 'Computation with Real Numbers')\n",
    "103 (322.0, 'Write Linear Equation from Ordered Pairs')\n",
    "104 (323.0, 'Write Linear Equation from Situation')\n",
    "105 (324.0, 'Recognize Linear Pattern')\n",
    "106 (325.0, 'Write Linear Equation from Graph')\n",
    "107 (331.0, 'Finding Slope From Situation')\n",
    "108 (333.0, 'Finding Slope From Equation')\n",
    "109 (334.0, 'Finding Slope from Ordered Pairs')\n",
    "110 (340.0, 'Distributive Property')\n",
    "111 (343.0, 'Midpoint')\n",
    "112 (346.0, 'Polynomial Factors')\n",
    "113 (348.0, 'Recognize Quadratic Pattern')\n",
    "114 (350.0, 'Solving Systems of Linear Equations')\n",
    "115 (356.0, 'Quadratic Formula to Solve Quadratic Equation')\n",
    "116 (362.0, 'Parts of a Polyomial, Terms, Coefficient, Monomial, Exponent, Variable')\n",
    "117 (365.0, 'Interpreting Coordinate Graphs ')\n",
    "118 (367.0, nan)\n",
    "119 (368.0, 'Solving for a variable')\n",
    "120 (371.0, 'Simplifying Expressions positive exponents')\n",
    "121 (375.0, 'Solving Inequalities')\n",
    "122 (378.0, 'Solving Systems of Linear Equations by Graphing')\n",
    "123 (0.0, nan)\n",
    "```"
   ]
  },
  {
   "cell_type": "code",
   "execution_count": null,
   "metadata": {
    "collapsed": true
   },
   "outputs": [],
   "source": [
    "X_batch, y_seq_batch, y_corr_batch = dkt_original.data_train.next_batch()"
   ]
  },
  {
   "cell_type": "code",
   "execution_count": null,
   "metadata": {
    "collapsed": true
   },
   "outputs": [],
   "source": [
    "X_batch"
   ]
  },
  {
   "cell_type": "code",
   "execution_count": null,
   "metadata": {
    "collapsed": true
   },
   "outputs": [],
   "source": []
  }
 ],
 "metadata": {
  "kernelspec": {
   "name": "Python 3.6.5 64-bit ('venv-3.6.5-tf1.10')",
   "display_name": "Python 3.6.5 64-bit ('venv-3.6.5-tf1.10')",
   "metadata": {
    "interpreter": {
     "hash": "c92de571306a54a224608e3f5bb806131356d2312d25c6efcf88433ca809abba"
    }
   }
  },
  "language_info": {
   "codemirror_mode": {
    "name": "ipython",
    "version": 3
   },
   "file_extension": ".py",
   "mimetype": "text/x-python",
   "name": "python",
   "nbconvert_exporter": "python",
   "pygments_lexer": "ipython3",
   "version": "3.6.5-final"
  }
 },
 "nbformat": 4,
 "nbformat_minor": 2
}