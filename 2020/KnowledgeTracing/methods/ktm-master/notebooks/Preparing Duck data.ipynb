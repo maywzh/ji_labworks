{
 "cells": [
  {
   "cell_type": "code",
   "execution_count": 1,
   "metadata": {},
   "outputs": [],
   "source": [
    "ITER = '0'"
   ]
  },
  {
   "cell_type": "code",
   "execution_count": 2,
   "metadata": {},
   "outputs": [],
   "source": [
    "import pandas as pd\n",
    "import os.path\n",
    "\n",
    "DATASET_FOLDER = '/Users/jilljenn/Desktop/GCFM/datasets/'"
   ]
  },
  {
   "cell_type": "code",
   "execution_count": 3,
   "metadata": {},
   "outputs": [
    {
     "ename": "NameError",
     "evalue": "name 'people' is not defined",
     "output_type": "error",
     "traceback": [
      "\u001b[0;31m---------------------------------------------------------------------------\u001b[0m",
      "\u001b[0;31mNameError\u001b[0m                                 Traceback (most recent call last)",
      "\u001b[0;32m<ipython-input-3-6522a6bf3904>\u001b[0m in \u001b[0;36m<module>\u001b[0;34m\u001b[0m\n\u001b[0;32m----> 1\u001b[0;31m \u001b[0mpeople\u001b[0m\u001b[0;34m.\u001b[0m\u001b[0mshape\u001b[0m\u001b[0;34m\u001b[0m\u001b[0m\n\u001b[0m",
      "\u001b[0;31mNameError\u001b[0m: name 'people' is not defined"
     ]
    }
   ],
   "source": [
    "people.shape"
   ]
  },
  {
   "cell_type": "code",
   "execution_count": 34,
   "metadata": {},
   "outputs": [],
   "source": [
    "truth = pd.read_csv(os.path.join(DATASET_FOLDER, 'duck/DUCKgt.txt'), sep='\\t', names=('item_id', 'truth'))"
   ]
  },
  {
   "cell_type": "code",
   "execution_count": 35,
   "metadata": {},
   "outputs": [
    {
     "data": {
      "text/plain": [
       "(108, 2)"
      ]
     },
     "execution_count": 35,
     "metadata": {},
     "output_type": "execute_result"
    }
   ],
   "source": [
    "truth.shape"
   ]
  },
  {
   "cell_type": "code",
   "execution_count": 5,
   "metadata": {},
   "outputs": [],
   "source": [
    "people = pd.read_csv(os.path.join(DATASET_FOLDER, 'duck/DUCKlabel.txt'), sep=' ', names=('item_id', 'worker', 'label'))"
   ]
  },
  {
   "cell_type": "code",
   "execution_count": 9,
   "metadata": {},
   "outputs": [],
   "source": [
    "df = people.merge(truth, on='item_id')"
   ]
  },
  {
   "cell_type": "code",
   "execution_count": 10,
   "metadata": {},
   "outputs": [
    {
     "data": {
      "text/html": [
       "<div>\n",
       "<style scoped>\n",
       "    .dataframe tbody tr th:only-of-type {\n",
       "        vertical-align: middle;\n",
       "    }\n",
       "\n",
       "    .dataframe tbody tr th {\n",
       "        vertical-align: top;\n",
       "    }\n",
       "\n",
       "    .dataframe thead th {\n",
       "        text-align: right;\n",
       "    }\n",
       "</style>\n",
       "<table border=\"1\" class=\"dataframe\">\n",
       "  <thead>\n",
       "    <tr style=\"text-align: right;\">\n",
       "      <th></th>\n",
       "      <th>item_id</th>\n",
       "      <th>worker</th>\n",
       "      <th>label</th>\n",
       "      <th>truth</th>\n",
       "    </tr>\n",
       "  </thead>\n",
       "  <tbody>\n",
       "    <tr>\n",
       "      <th>0</th>\n",
       "      <td>36618</td>\n",
       "      <td>896</td>\n",
       "      <td>0</td>\n",
       "      <td>0</td>\n",
       "    </tr>\n",
       "    <tr>\n",
       "      <th>1</th>\n",
       "      <td>36618</td>\n",
       "      <td>866</td>\n",
       "      <td>1</td>\n",
       "      <td>0</td>\n",
       "    </tr>\n",
       "    <tr>\n",
       "      <th>2</th>\n",
       "      <td>36618</td>\n",
       "      <td>39</td>\n",
       "      <td>0</td>\n",
       "      <td>0</td>\n",
       "    </tr>\n",
       "    <tr>\n",
       "      <th>3</th>\n",
       "      <td>36618</td>\n",
       "      <td>175</td>\n",
       "      <td>1</td>\n",
       "      <td>0</td>\n",
       "    </tr>\n",
       "    <tr>\n",
       "      <th>4</th>\n",
       "      <td>36618</td>\n",
       "      <td>1721</td>\n",
       "      <td>1</td>\n",
       "      <td>0</td>\n",
       "    </tr>\n",
       "  </tbody>\n",
       "</table>\n",
       "</div>"
      ],
      "text/plain": [
       "   item_id  worker  label  truth\n",
       "0    36618     896      0      0\n",
       "1    36618     866      1      0\n",
       "2    36618      39      0      0\n",
       "3    36618     175      1      0\n",
       "4    36618    1721      1      0"
      ]
     },
     "execution_count": 10,
     "metadata": {},
     "output_type": "execute_result"
    }
   ],
   "source": [
    "df.head()"
   ]
  },
  {
   "cell_type": "code",
   "execution_count": 11,
   "metadata": {},
   "outputs": [],
   "source": [
    "import numpy as np\n",
    "\n",
    "df['correct'] = (df['label'] == df['truth']).astype(np.int32)"
   ]
  },
  {
   "cell_type": "code",
   "execution_count": 12,
   "metadata": {},
   "outputs": [],
   "source": [
    "encode = {}\n",
    "for feature in {'item_id', 'worker'}:\n",
    "    encode[feature] = dict(zip(df[feature].unique(), range(10000)))\n",
    "df['item'] = df['item_id'].map(encode['item_id'])\n",
    "df['user'] = df['worker'].map(encode['worker'])"
   ]
  },
  {
   "cell_type": "code",
   "execution_count": 13,
   "metadata": {},
   "outputs": [
    {
     "data": {
      "text/html": [
       "<div>\n",
       "<style scoped>\n",
       "    .dataframe tbody tr th:only-of-type {\n",
       "        vertical-align: middle;\n",
       "    }\n",
       "\n",
       "    .dataframe tbody tr th {\n",
       "        vertical-align: top;\n",
       "    }\n",
       "\n",
       "    .dataframe thead th {\n",
       "        text-align: right;\n",
       "    }\n",
       "</style>\n",
       "<table border=\"1\" class=\"dataframe\">\n",
       "  <thead>\n",
       "    <tr style=\"text-align: right;\">\n",
       "      <th></th>\n",
       "      <th>item_id</th>\n",
       "      <th>worker</th>\n",
       "      <th>label</th>\n",
       "      <th>truth</th>\n",
       "      <th>correct</th>\n",
       "      <th>item</th>\n",
       "      <th>user</th>\n",
       "    </tr>\n",
       "  </thead>\n",
       "  <tbody>\n",
       "    <tr>\n",
       "      <th>0</th>\n",
       "      <td>36618</td>\n",
       "      <td>896</td>\n",
       "      <td>0</td>\n",
       "      <td>0</td>\n",
       "      <td>1</td>\n",
       "      <td>0</td>\n",
       "      <td>0</td>\n",
       "    </tr>\n",
       "    <tr>\n",
       "      <th>1</th>\n",
       "      <td>36618</td>\n",
       "      <td>866</td>\n",
       "      <td>1</td>\n",
       "      <td>0</td>\n",
       "      <td>0</td>\n",
       "      <td>0</td>\n",
       "      <td>1</td>\n",
       "    </tr>\n",
       "    <tr>\n",
       "      <th>2</th>\n",
       "      <td>36618</td>\n",
       "      <td>39</td>\n",
       "      <td>0</td>\n",
       "      <td>0</td>\n",
       "      <td>1</td>\n",
       "      <td>0</td>\n",
       "      <td>2</td>\n",
       "    </tr>\n",
       "    <tr>\n",
       "      <th>3</th>\n",
       "      <td>36618</td>\n",
       "      <td>175</td>\n",
       "      <td>1</td>\n",
       "      <td>0</td>\n",
       "      <td>0</td>\n",
       "      <td>0</td>\n",
       "      <td>3</td>\n",
       "    </tr>\n",
       "    <tr>\n",
       "      <th>4</th>\n",
       "      <td>36618</td>\n",
       "      <td>1721</td>\n",
       "      <td>1</td>\n",
       "      <td>0</td>\n",
       "      <td>0</td>\n",
       "      <td>0</td>\n",
       "      <td>4</td>\n",
       "    </tr>\n",
       "  </tbody>\n",
       "</table>\n",
       "</div>"
      ],
      "text/plain": [
       "   item_id  worker  label  truth  correct  item  user\n",
       "0    36618     896      0      0        1     0     0\n",
       "1    36618     866      1      0        0     0     1\n",
       "2    36618      39      0      0        1     0     2\n",
       "3    36618     175      1      0        0     0     3\n",
       "4    36618    1721      1      0        0     0     4"
      ]
     },
     "execution_count": 13,
     "metadata": {},
     "output_type": "execute_result"
    }
   ],
   "source": [
    "df.head()"
   ]
  },
  {
   "cell_type": "code",
   "execution_count": 14,
   "metadata": {},
   "outputs": [],
   "source": [
    "# Save dataset into the KTM folder\n",
    "# df[['user', 'item', 'correct']].to_csv('/Users/jilljenn/code/ktm/data/duck/data.csv', index=None)"
   ]
  },
  {
   "cell_type": "code",
   "execution_count": 15,
   "metadata": {},
   "outputs": [],
   "source": [
    "# Save config into the KTM folder\n",
    "import yaml\n",
    "\n",
    "with open('/Users/jilljenn/code/ktm/data/duck/config.yml', 'w') as f:\n",
    "    yaml.safe_dump({\n",
    "        'nb_users': 1 + int(df['user'].max()),\n",
    "        'nb_items': 1 + int(df['item'].max())\n",
    "    }, f)"
   ]
  },
  {
   "cell_type": "markdown",
   "metadata": {},
   "source": [
    "## Subsets"
   ]
  },
  {
   "cell_type": "code",
   "execution_count": 39,
   "metadata": {},
   "outputs": [],
   "source": [
    "ITER = '1'"
   ]
  },
  {
   "cell_type": "code",
   "execution_count": 76,
   "metadata": {},
   "outputs": [
    {
     "data": {
      "text/html": [
       "<div>\n",
       "<style scoped>\n",
       "    .dataframe tbody tr th:only-of-type {\n",
       "        vertical-align: middle;\n",
       "    }\n",
       "\n",
       "    .dataframe tbody tr th {\n",
       "        vertical-align: top;\n",
       "    }\n",
       "\n",
       "    .dataframe thead th {\n",
       "        text-align: right;\n",
       "    }\n",
       "</style>\n",
       "<table border=\"1\" class=\"dataframe\">\n",
       "  <thead>\n",
       "    <tr style=\"text-align: right;\">\n",
       "      <th></th>\n",
       "      <th>item_id</th>\n",
       "      <th>worker</th>\n",
       "      <th>label</th>\n",
       "      <th>truth</th>\n",
       "      <th>correct</th>\n",
       "      <th>item</th>\n",
       "      <th>user</th>\n",
       "      <th>confidence0</th>\n",
       "      <th>pred</th>\n",
       "      <th>confidence</th>\n",
       "      <th>round_pred</th>\n",
       "      <th>one</th>\n",
       "      <th>recommend</th>\n",
       "    </tr>\n",
       "  </thead>\n",
       "  <tbody>\n",
       "    <tr>\n",
       "      <th>0</th>\n",
       "      <td>36618</td>\n",
       "      <td>896</td>\n",
       "      <td>0</td>\n",
       "      <td>0</td>\n",
       "      <td>1</td>\n",
       "      <td>0</td>\n",
       "      <td>0</td>\n",
       "      <td>0.0</td>\n",
       "      <td>0.331393</td>\n",
       "      <td>0.168607</td>\n",
       "      <td>0.0</td>\n",
       "      <td>1</td>\n",
       "      <td>1.0</td>\n",
       "    </tr>\n",
       "    <tr>\n",
       "      <th>1</th>\n",
       "      <td>36618</td>\n",
       "      <td>866</td>\n",
       "      <td>1</td>\n",
       "      <td>0</td>\n",
       "      <td>0</td>\n",
       "      <td>0</td>\n",
       "      <td>1</td>\n",
       "      <td>0.0</td>\n",
       "      <td>0.528325</td>\n",
       "      <td>0.028325</td>\n",
       "      <td>1.0</td>\n",
       "      <td>1</td>\n",
       "      <td>1.0</td>\n",
       "    </tr>\n",
       "    <tr>\n",
       "      <th>2</th>\n",
       "      <td>36618</td>\n",
       "      <td>39</td>\n",
       "      <td>0</td>\n",
       "      <td>0</td>\n",
       "      <td>1</td>\n",
       "      <td>0</td>\n",
       "      <td>2</td>\n",
       "      <td>0.0</td>\n",
       "      <td>0.899391</td>\n",
       "      <td>0.399391</td>\n",
       "      <td>1.0</td>\n",
       "      <td>1</td>\n",
       "      <td>0.0</td>\n",
       "    </tr>\n",
       "    <tr>\n",
       "      <th>3</th>\n",
       "      <td>36618</td>\n",
       "      <td>175</td>\n",
       "      <td>1</td>\n",
       "      <td>0</td>\n",
       "      <td>0</td>\n",
       "      <td>0</td>\n",
       "      <td>3</td>\n",
       "      <td>0.0</td>\n",
       "      <td>0.437513</td>\n",
       "      <td>0.062487</td>\n",
       "      <td>0.0</td>\n",
       "      <td>1</td>\n",
       "      <td>0.0</td>\n",
       "    </tr>\n",
       "    <tr>\n",
       "      <th>4</th>\n",
       "      <td>36618</td>\n",
       "      <td>1721</td>\n",
       "      <td>1</td>\n",
       "      <td>0</td>\n",
       "      <td>0</td>\n",
       "      <td>0</td>\n",
       "      <td>4</td>\n",
       "      <td>0.0</td>\n",
       "      <td>0.398165</td>\n",
       "      <td>0.101835</td>\n",
       "      <td>0.0</td>\n",
       "      <td>1</td>\n",
       "      <td>0.0</td>\n",
       "    </tr>\n",
       "  </tbody>\n",
       "</table>\n",
       "</div>"
      ],
      "text/plain": [
       "   item_id  worker  label  truth  correct  item  user  confidence0      pred  \\\n",
       "0    36618     896      0      0        1     0     0          0.0  0.331393   \n",
       "1    36618     866      1      0        0     0     1          0.0  0.528325   \n",
       "2    36618      39      0      0        1     0     2          0.0  0.899391   \n",
       "3    36618     175      1      0        0     0     3          0.0  0.437513   \n",
       "4    36618    1721      1      0        0     0     4          0.0  0.398165   \n",
       "\n",
       "   confidence  round_pred  one  recommend  \n",
       "0    0.168607         0.0    1        1.0  \n",
       "1    0.028325         1.0    1        1.0  \n",
       "2    0.399391         1.0    1        0.0  \n",
       "3    0.062487         0.0    1        0.0  \n",
       "4    0.101835         0.0    1        0.0  "
      ]
     },
     "execution_count": 76,
     "metadata": {},
     "output_type": "execute_result"
    }
   ],
   "source": [
    "test = {}\n",
    "for index in range(1):\n",
    "    subset = pd.read_csv(os.path.join(DATASET_FOLDER, 'duck/subgolden/DUCKsubgoldengt.{}.txt'.format(index)), sep='\\t', names=('item', 'truth'))\n",
    "    known_items = set(subset['item'])\n",
    "    i_train = df.query('item_id in @known_items').index\n",
    "    test[index] = df.query('item_id not in @known_items').copy()\n",
    "    i_test = test[index].index\n",
    "    # Save indices for train and test into the KTM folder\n",
    "    # np.save('/Users/jilljenn/code/ktm/data/duck/i_train{}.npy'.format(index), i_train)\n",
    "    # np.save('/Users/jilljenn/code/ktm/data/duck/i_test{}.npy'.format(index), i_test)\n",
    "    # Load predictions from KTM\n",
    "    test[index]['pred'] = np.load('/Users/jilljenn/code/ktm/data/duck00/y_pred{}.npy'.format(index))\n",
    "    test[index]['confidence'] = abs(test[index]['pred'] - 0.5)\n",
    "    test[index]['round_pred'] = np.round(test[index]['pred'])\n",
    "    test[index]['one'] = 1\n",
    "    test[index]['recommend'] = (1 - test[index]['round_pred']) * (1 - test[index]['label']) + test[index]['round_pred'] * test[index]['label']\n",
    "test[0].head()"
   ]
  },
  {
   "cell_type": "code",
   "execution_count": 77,
   "metadata": {},
   "outputs": [],
   "source": [
    "scores = test[0].groupby(['item_id', 'recommend']).sum()"
   ]
  },
  {
   "cell_type": "code",
   "execution_count": 78,
   "metadata": {},
   "outputs": [],
   "source": [
    "max_sum = scores.groupby('item_id').max().rename(columns={key: 'max_sum_' + key for key in {'pred', 'confidence', 'one'}})"
   ]
  },
  {
   "cell_type": "code",
   "execution_count": 79,
   "metadata": {},
   "outputs": [],
   "source": [
    "scores = scores.join(max_sum[['max_sum_pred', 'max_sum_confidence', 'max_sum_one']], on='item_id')"
   ]
  },
  {
   "cell_type": "code",
   "execution_count": 80,
   "metadata": {},
   "outputs": [],
   "source": [
    "for feature in {'pred', 'confidence', 'one'}:\n",
    "    scores['{}_choice'.format(feature)] = scores[feature] == scores['max_sum_{}'.format(feature)]"
   ]
  },
  {
   "cell_type": "code",
   "execution_count": 81,
   "metadata": {},
   "outputs": [
    {
     "data": {
      "text/html": [
       "<div>\n",
       "<style scoped>\n",
       "    .dataframe tbody tr th:only-of-type {\n",
       "        vertical-align: middle;\n",
       "    }\n",
       "\n",
       "    .dataframe tbody tr th {\n",
       "        vertical-align: top;\n",
       "    }\n",
       "\n",
       "    .dataframe thead th {\n",
       "        text-align: right;\n",
       "    }\n",
       "</style>\n",
       "<table border=\"1\" class=\"dataframe\">\n",
       "  <thead>\n",
       "    <tr style=\"text-align: right;\">\n",
       "      <th></th>\n",
       "      <th></th>\n",
       "      <th>worker</th>\n",
       "      <th>label</th>\n",
       "      <th>truth</th>\n",
       "      <th>correct</th>\n",
       "      <th>item</th>\n",
       "      <th>user</th>\n",
       "      <th>confidence0</th>\n",
       "      <th>pred</th>\n",
       "      <th>confidence</th>\n",
       "      <th>round_pred</th>\n",
       "      <th>one</th>\n",
       "      <th>max_sum_pred</th>\n",
       "      <th>max_sum_confidence</th>\n",
       "      <th>max_sum_one</th>\n",
       "      <th>confidence_choice</th>\n",
       "      <th>one_choice</th>\n",
       "      <th>pred_choice</th>\n",
       "    </tr>\n",
       "    <tr>\n",
       "      <th>item_id</th>\n",
       "      <th>recommend</th>\n",
       "      <th></th>\n",
       "      <th></th>\n",
       "      <th></th>\n",
       "      <th></th>\n",
       "      <th></th>\n",
       "      <th></th>\n",
       "      <th></th>\n",
       "      <th></th>\n",
       "      <th></th>\n",
       "      <th></th>\n",
       "      <th></th>\n",
       "      <th></th>\n",
       "      <th></th>\n",
       "      <th></th>\n",
       "      <th></th>\n",
       "      <th></th>\n",
       "      <th></th>\n",
       "    </tr>\n",
       "  </thead>\n",
       "  <tbody>\n",
       "    <tr>\n",
       "      <th rowspan=\"2\" valign=\"top\">11573</th>\n",
       "      <th>0.0</th>\n",
       "      <td>10518</td>\n",
       "      <td>3</td>\n",
       "      <td>7</td>\n",
       "      <td>3</td>\n",
       "      <td>175</td>\n",
       "      <td>106</td>\n",
       "      <td>7.0</td>\n",
       "      <td>3.823618</td>\n",
       "      <td>0.825912</td>\n",
       "      <td>4.0</td>\n",
       "      <td>7</td>\n",
       "      <td>22.591976</td>\n",
       "      <td>8.324232</td>\n",
       "      <td>32</td>\n",
       "      <td>False</td>\n",
       "      <td>False</td>\n",
       "      <td>False</td>\n",
       "    </tr>\n",
       "    <tr>\n",
       "      <th>1.0</th>\n",
       "      <td>47116</td>\n",
       "      <td>24</td>\n",
       "      <td>32</td>\n",
       "      <td>24</td>\n",
       "      <td>800</td>\n",
       "      <td>635</td>\n",
       "      <td>32.0</td>\n",
       "      <td>22.591976</td>\n",
       "      <td>8.324232</td>\n",
       "      <td>24.0</td>\n",
       "      <td>32</td>\n",
       "      <td>22.591976</td>\n",
       "      <td>8.324232</td>\n",
       "      <td>32</td>\n",
       "      <td>True</td>\n",
       "      <td>True</td>\n",
       "      <td>True</td>\n",
       "    </tr>\n",
       "    <tr>\n",
       "      <th rowspan=\"2\" valign=\"top\">11575</th>\n",
       "      <th>0.0</th>\n",
       "      <td>7009</td>\n",
       "      <td>2</td>\n",
       "      <td>4</td>\n",
       "      <td>2</td>\n",
       "      <td>108</td>\n",
       "      <td>96</td>\n",
       "      <td>4.0</td>\n",
       "      <td>2.129866</td>\n",
       "      <td>0.571186</td>\n",
       "      <td>2.0</td>\n",
       "      <td>4</td>\n",
       "      <td>23.159849</td>\n",
       "      <td>10.508641</td>\n",
       "      <td>35</td>\n",
       "      <td>False</td>\n",
       "      <td>False</td>\n",
       "      <td>False</td>\n",
       "    </tr>\n",
       "    <tr>\n",
       "      <th>1.0</th>\n",
       "      <td>50625</td>\n",
       "      <td>24</td>\n",
       "      <td>35</td>\n",
       "      <td>24</td>\n",
       "      <td>945</td>\n",
       "      <td>645</td>\n",
       "      <td>35.0</td>\n",
       "      <td>23.159849</td>\n",
       "      <td>10.508641</td>\n",
       "      <td>24.0</td>\n",
       "      <td>35</td>\n",
       "      <td>23.159849</td>\n",
       "      <td>10.508641</td>\n",
       "      <td>35</td>\n",
       "      <td>True</td>\n",
       "      <td>True</td>\n",
       "      <td>True</td>\n",
       "    </tr>\n",
       "    <tr>\n",
       "      <th>11577</th>\n",
       "      <th>0.0</th>\n",
       "      <td>40660</td>\n",
       "      <td>5</td>\n",
       "      <td>27</td>\n",
       "      <td>5</td>\n",
       "      <td>1485</td>\n",
       "      <td>502</td>\n",
       "      <td>0.0</td>\n",
       "      <td>17.803861</td>\n",
       "      <td>5.778003</td>\n",
       "      <td>22.0</td>\n",
       "      <td>27</td>\n",
       "      <td>17.803861</td>\n",
       "      <td>5.778003</td>\n",
       "      <td>27</td>\n",
       "      <td>True</td>\n",
       "      <td>True</td>\n",
       "      <td>True</td>\n",
       "    </tr>\n",
       "  </tbody>\n",
       "</table>\n",
       "</div>"
      ],
      "text/plain": [
       "                   worker  label  truth  correct  item  user  confidence0  \\\n",
       "item_id recommend                                                           \n",
       "11573   0.0         10518      3      7        3   175   106          7.0   \n",
       "        1.0         47116     24     32       24   800   635         32.0   \n",
       "11575   0.0          7009      2      4        2   108    96          4.0   \n",
       "        1.0         50625     24     35       24   945   645         35.0   \n",
       "11577   0.0         40660      5     27        5  1485   502          0.0   \n",
       "\n",
       "                        pred  confidence  round_pred  one  max_sum_pred  \\\n",
       "item_id recommend                                                         \n",
       "11573   0.0         3.823618    0.825912         4.0    7     22.591976   \n",
       "        1.0        22.591976    8.324232        24.0   32     22.591976   \n",
       "11575   0.0         2.129866    0.571186         2.0    4     23.159849   \n",
       "        1.0        23.159849   10.508641        24.0   35     23.159849   \n",
       "11577   0.0        17.803861    5.778003        22.0   27     17.803861   \n",
       "\n",
       "                   max_sum_confidence  max_sum_one  confidence_choice  \\\n",
       "item_id recommend                                                       \n",
       "11573   0.0                  8.324232           32              False   \n",
       "        1.0                  8.324232           32               True   \n",
       "11575   0.0                 10.508641           35              False   \n",
       "        1.0                 10.508641           35               True   \n",
       "11577   0.0                  5.778003           27               True   \n",
       "\n",
       "                   one_choice  pred_choice  \n",
       "item_id recommend                           \n",
       "11573   0.0             False        False  \n",
       "        1.0              True         True  \n",
       "11575   0.0             False        False  \n",
       "        1.0              True         True  \n",
       "11577   0.0              True         True  "
      ]
     },
     "execution_count": 81,
     "metadata": {},
     "output_type": "execute_result"
    }
   ],
   "source": [
    "scores.head()"
   ]
  },
  {
   "cell_type": "code",
   "execution_count": 69,
   "metadata": {},
   "outputs": [],
   "source": [
    "#ITER = '0'\n",
    "ITER = '2'\n",
    "for feature in {'pred', 'confidence', 'one'}:\n",
    "    pred = scores.query('{}_choice == True'.format(feature)).reset_index()[['item_id', 'recommend']].rename(columns={'recommend': feature + ITER})\n",
    "    truth = truth.merge(pred, on='item_id')"
   ]
  },
  {
   "cell_type": "code",
   "execution_count": 70,
   "metadata": {},
   "outputs": [
    {
     "data": {
      "text/plain": [
       "(   item_id  truth  confidence1_x  one1_x  pred1_x  confidence1_y  one1_y  \\\n",
       " 0    36618      0            0.0     0.0      0.0            0.0     0.0   \n",
       " 1    11619      1            1.0     1.0      1.0            1.0     1.0   \n",
       " 2    36622      0            0.0     0.0      0.0            0.0     0.0   \n",
       " 3    36623      0            0.0     0.0      0.0            0.0     0.0   \n",
       " 4    36624      0            0.0     0.0      0.0            0.0     0.0   \n",
       " \n",
       "    pred1_y  confidence2  one2  pred2  \n",
       " 0      0.0          0.0   0.0    0.0  \n",
       " 1      1.0          1.0   1.0    1.0  \n",
       " 2      0.0          0.0   0.0    0.0  \n",
       " 3      0.0          0.0   0.0    0.0  \n",
       " 4      0.0          0.0   0.0    0.0  , (81, 11))"
      ]
     },
     "execution_count": 70,
     "metadata": {},
     "output_type": "execute_result"
    }
   ],
   "source": [
    "truth.head(), truth.shape"
   ]
  },
  {
   "cell_type": "code",
   "execution_count": 73,
   "metadata": {},
   "outputs": [],
   "source": [
    "ITER = '2'"
   ]
  },
  {
   "cell_type": "code",
   "execution_count": 75,
   "metadata": {},
   "outputs": [
    {
     "data": {
      "text/plain": [
       "(81, 81)"
      ]
     },
     "execution_count": 75,
     "metadata": {},
     "output_type": "execute_result"
    }
   ],
   "source": [
    "sum(truth['confidence1_x'] == truth['confidence2']), len(truth)"
   ]
  },
  {
   "cell_type": "code",
   "execution_count": 72,
   "metadata": {},
   "outputs": [
    {
     "name": "stdout",
     "output_type": "stream",
     "text": [
      "acc confidence = 0.8024691358024691\n",
      "auc confidence = 0.7925336597307221\n",
      "acc one = 0.8024691358024691\n",
      "auc one = 0.7925336597307221\n",
      "acc pred = 0.8024691358024691\n",
      "auc pred = 0.7925336597307221\n"
     ]
    }
   ],
   "source": [
    "from sklearn.metrics import accuracy_score, roc_auc_score\n",
    "\n",
    "for feature in {'pred', 'confidence', 'one'}:\n",
    "    print('acc', feature, '=', accuracy_score(truth['truth'], truth[feature + ITER]))\n",
    "    print('auc', feature, '=', roc_auc_score(truth['truth'], truth[feature + ITER]))"
   ]
  },
  {
   "cell_type": "code",
   "execution_count": 29,
   "metadata": {},
   "outputs": [
    {
     "data": {
      "text/plain": [
       "(4212, 7)"
      ]
     },
     "execution_count": 29,
     "metadata": {},
     "output_type": "execute_result"
    }
   ],
   "source": [
    "df.shape"
   ]
  },
  {
   "cell_type": "code",
   "execution_count": 30,
   "metadata": {},
   "outputs": [],
   "source": [
    "df = df.merge(truth[['item_id', 'confidence' + ITER]], on='item_id')"
   ]
  },
  {
   "cell_type": "code",
   "execution_count": 32,
   "metadata": {},
   "outputs": [
    {
     "data": {
      "text/html": [
       "<div>\n",
       "<style scoped>\n",
       "    .dataframe tbody tr th:only-of-type {\n",
       "        vertical-align: middle;\n",
       "    }\n",
       "\n",
       "    .dataframe tbody tr th {\n",
       "        vertical-align: top;\n",
       "    }\n",
       "\n",
       "    .dataframe thead th {\n",
       "        text-align: right;\n",
       "    }\n",
       "</style>\n",
       "<table border=\"1\" class=\"dataframe\">\n",
       "  <thead>\n",
       "    <tr style=\"text-align: right;\">\n",
       "      <th></th>\n",
       "      <th>item_id</th>\n",
       "      <th>worker</th>\n",
       "      <th>label</th>\n",
       "      <th>truth</th>\n",
       "      <th>correct</th>\n",
       "      <th>item</th>\n",
       "      <th>user</th>\n",
       "      <th>confidence0</th>\n",
       "    </tr>\n",
       "  </thead>\n",
       "  <tbody>\n",
       "    <tr>\n",
       "      <th>0</th>\n",
       "      <td>36618</td>\n",
       "      <td>896</td>\n",
       "      <td>0</td>\n",
       "      <td>0</td>\n",
       "      <td>1</td>\n",
       "      <td>0</td>\n",
       "      <td>0</td>\n",
       "      <td>0.0</td>\n",
       "    </tr>\n",
       "    <tr>\n",
       "      <th>1</th>\n",
       "      <td>36618</td>\n",
       "      <td>866</td>\n",
       "      <td>1</td>\n",
       "      <td>0</td>\n",
       "      <td>0</td>\n",
       "      <td>0</td>\n",
       "      <td>1</td>\n",
       "      <td>0.0</td>\n",
       "    </tr>\n",
       "    <tr>\n",
       "      <th>2</th>\n",
       "      <td>36618</td>\n",
       "      <td>39</td>\n",
       "      <td>0</td>\n",
       "      <td>0</td>\n",
       "      <td>1</td>\n",
       "      <td>0</td>\n",
       "      <td>2</td>\n",
       "      <td>0.0</td>\n",
       "    </tr>\n",
       "    <tr>\n",
       "      <th>3</th>\n",
       "      <td>36618</td>\n",
       "      <td>175</td>\n",
       "      <td>1</td>\n",
       "      <td>0</td>\n",
       "      <td>0</td>\n",
       "      <td>0</td>\n",
       "      <td>3</td>\n",
       "      <td>0.0</td>\n",
       "    </tr>\n",
       "    <tr>\n",
       "      <th>4</th>\n",
       "      <td>36618</td>\n",
       "      <td>1721</td>\n",
       "      <td>1</td>\n",
       "      <td>0</td>\n",
       "      <td>0</td>\n",
       "      <td>0</td>\n",
       "      <td>4</td>\n",
       "      <td>0.0</td>\n",
       "    </tr>\n",
       "  </tbody>\n",
       "</table>\n",
       "</div>"
      ],
      "text/plain": [
       "   item_id  worker  label  truth  correct  item  user  confidence0\n",
       "0    36618     896      0      0        1     0     0          0.0\n",
       "1    36618     866      1      0        0     0     1          0.0\n",
       "2    36618      39      0      0        1     0     2          0.0\n",
       "3    36618     175      1      0        0     0     3          0.0\n",
       "4    36618    1721      1      0        0     0     4          0.0"
      ]
     },
     "execution_count": 32,
     "metadata": {},
     "output_type": "execute_result"
    }
   ],
   "source": [
    "df.head()"
   ]
  },
  {
   "cell_type": "code",
   "execution_count": 33,
   "metadata": {},
   "outputs": [
    {
     "data": {
      "text/plain": [
       "(3159, 8)"
      ]
     },
     "execution_count": 33,
     "metadata": {},
     "output_type": "execute_result"
    }
   ],
   "source": [
    "df.shape"
   ]
  },
  {
   "cell_type": "code",
   "execution_count": 81,
   "metadata": {},
   "outputs": [],
   "source": [
    "df['correct'] = (df['label'] == df['confidence0_x']).astype(np.int32)"
   ]
  },
  {
   "cell_type": "code",
   "execution_count": 82,
   "metadata": {},
   "outputs": [
    {
     "data": {
      "text/html": [
       "<div>\n",
       "<style scoped>\n",
       "    .dataframe tbody tr th:only-of-type {\n",
       "        vertical-align: middle;\n",
       "    }\n",
       "\n",
       "    .dataframe tbody tr th {\n",
       "        vertical-align: top;\n",
       "    }\n",
       "\n",
       "    .dataframe thead th {\n",
       "        text-align: right;\n",
       "    }\n",
       "</style>\n",
       "<table border=\"1\" class=\"dataframe\">\n",
       "  <thead>\n",
       "    <tr style=\"text-align: right;\">\n",
       "      <th></th>\n",
       "      <th>item_id</th>\n",
       "      <th>worker</th>\n",
       "      <th>label</th>\n",
       "      <th>truth</th>\n",
       "      <th>correct</th>\n",
       "      <th>item</th>\n",
       "      <th>user</th>\n",
       "      <th>confidence0_x</th>\n",
       "      <th>confidence0_y</th>\n",
       "      <th>correct0</th>\n",
       "    </tr>\n",
       "  </thead>\n",
       "  <tbody>\n",
       "    <tr>\n",
       "      <th>0</th>\n",
       "      <td>36618</td>\n",
       "      <td>896</td>\n",
       "      <td>0</td>\n",
       "      <td>0</td>\n",
       "      <td>1</td>\n",
       "      <td>0</td>\n",
       "      <td>0</td>\n",
       "      <td>0.0</td>\n",
       "      <td>0.0</td>\n",
       "      <td>1</td>\n",
       "    </tr>\n",
       "    <tr>\n",
       "      <th>1</th>\n",
       "      <td>36618</td>\n",
       "      <td>866</td>\n",
       "      <td>1</td>\n",
       "      <td>0</td>\n",
       "      <td>0</td>\n",
       "      <td>0</td>\n",
       "      <td>1</td>\n",
       "      <td>0.0</td>\n",
       "      <td>0.0</td>\n",
       "      <td>0</td>\n",
       "    </tr>\n",
       "    <tr>\n",
       "      <th>2</th>\n",
       "      <td>36618</td>\n",
       "      <td>39</td>\n",
       "      <td>0</td>\n",
       "      <td>0</td>\n",
       "      <td>1</td>\n",
       "      <td>0</td>\n",
       "      <td>2</td>\n",
       "      <td>0.0</td>\n",
       "      <td>0.0</td>\n",
       "      <td>1</td>\n",
       "    </tr>\n",
       "    <tr>\n",
       "      <th>3</th>\n",
       "      <td>36618</td>\n",
       "      <td>175</td>\n",
       "      <td>1</td>\n",
       "      <td>0</td>\n",
       "      <td>0</td>\n",
       "      <td>0</td>\n",
       "      <td>3</td>\n",
       "      <td>0.0</td>\n",
       "      <td>0.0</td>\n",
       "      <td>0</td>\n",
       "    </tr>\n",
       "    <tr>\n",
       "      <th>4</th>\n",
       "      <td>36618</td>\n",
       "      <td>1721</td>\n",
       "      <td>1</td>\n",
       "      <td>0</td>\n",
       "      <td>0</td>\n",
       "      <td>0</td>\n",
       "      <td>4</td>\n",
       "      <td>0.0</td>\n",
       "      <td>0.0</td>\n",
       "      <td>0</td>\n",
       "    </tr>\n",
       "  </tbody>\n",
       "</table>\n",
       "</div>"
      ],
      "text/plain": [
       "   item_id  worker  label  truth  correct  item  user  confidence0_x  \\\n",
       "0    36618     896      0      0        1     0     0            0.0   \n",
       "1    36618     866      1      0        0     0     1            0.0   \n",
       "2    36618      39      0      0        1     0     2            0.0   \n",
       "3    36618     175      1      0        0     0     3            0.0   \n",
       "4    36618    1721      1      0        0     0     4            0.0   \n",
       "\n",
       "   confidence0_y  correct0  \n",
       "0            0.0         1  \n",
       "1            0.0         0  \n",
       "2            0.0         1  \n",
       "3            0.0         0  \n",
       "4            0.0         0  "
      ]
     },
     "execution_count": 82,
     "metadata": {},
     "output_type": "execute_result"
    }
   ],
   "source": [
    "df.head()"
   ]
  },
  {
   "cell_type": "code",
   "execution_count": 38,
   "metadata": {},
   "outputs": [],
   "source": [
    "df[['user', 'item', 'correct']].to_csv('/Users/jilljenn/code/ktm/data/duck00/data.csv', index=None)"
   ]
  },
  {
   "cell_type": "code",
   "execution_count": 37,
   "metadata": {},
   "outputs": [
    {
     "data": {
      "text/plain": [
       "(3159, 8)"
      ]
     },
     "execution_count": 37,
     "metadata": {},
     "output_type": "execute_result"
    }
   ],
   "source": [
    "df.shape"
   ]
  },
  {
   "cell_type": "code",
   "execution_count": null,
   "metadata": {},
   "outputs": [],
   "source": []
  }
 ],
 "metadata": {
  "kernelspec": {
   "display_name": "Python 3",
   "language": "python",
   "name": "python3"
  },
  "language_info": {
   "codemirror_mode": {
    "name": "ipython",
    "version": 3
   },
   "file_extension": ".py",
   "mimetype": "text/x-python",
   "name": "python",
   "nbconvert_exporter": "python",
   "pygments_lexer": "ipython3",
   "version": "3.6.5"
  }
 },
 "nbformat": 4,
 "nbformat_minor": 2
}
